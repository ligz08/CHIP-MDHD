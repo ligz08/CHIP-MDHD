{
 "cells": [
  {
   "cell_type": "markdown",
   "metadata": {
    "toc": true
   },
   "source": [
    "<h1>Table of Contents<span class=\"tocSkip\"></span></h1>\n",
    "<div class=\"toc\" style=\"margin-top: 1em;\"><ul class=\"toc-item\"><li><span><a href=\"#Load-OD-and-Path-Info\" data-toc-modified-id=\"Load-OD-and-Path-Info-1\"><span class=\"toc-item-num\">1&nbsp;&nbsp;</span>Load OD and Path Info</a></span></li><li><span><a href=\"#Aggregate-Fuel-Info-by-HRS\" data-toc-modified-id=\"Aggregate-Fuel-Info-by-HRS-2\"><span class=\"toc-item-num\">2&nbsp;&nbsp;</span>Aggregate Fuel Info by HRS</a></span></li><li><span><a href=\"#HRS-Size-Bar-Chart\" data-toc-modified-id=\"HRS-Size-Bar-Chart-3\"><span class=\"toc-item-num\">3&nbsp;&nbsp;</span>HRS Size Bar Chart</a></span></li></ul></div>"
   ]
  },
  {
   "cell_type": "code",
   "execution_count": 1,
   "metadata": {
    "collapsed": true
   },
   "outputs": [],
   "source": [
    "import pandas as pd\n",
    "import matplotlib.pyplot as plt\n",
    "%matplotlib inline"
   ]
  },
  {
   "cell_type": "markdown",
   "metadata": {},
   "source": [
    "## Load OD and Path Info"
   ]
  },
  {
   "cell_type": "code",
   "execution_count": 2,
   "metadata": {},
   "outputs": [
    {
     "data": {
      "text/html": [
       "<div>\n",
       "<style scoped>\n",
       "    .dataframe tbody tr th:only-of-type {\n",
       "        vertical-align: middle;\n",
       "    }\n",
       "\n",
       "    .dataframe tbody tr th {\n",
       "        vertical-align: top;\n",
       "    }\n",
       "\n",
       "    .dataframe thead th {\n",
       "        text-align: right;\n",
       "    }\n",
       "</style>\n",
       "<table border=\"1\" class=\"dataframe\">\n",
       "  <thead>\n",
       "    <tr style=\"text-align: right;\">\n",
       "      <th></th>\n",
       "      <th>orig_node_id</th>\n",
       "      <th>dest_node_id</th>\n",
       "      <th>trip_count</th>\n",
       "      <th>path_id</th>\n",
       "    </tr>\n",
       "  </thead>\n",
       "  <tbody>\n",
       "    <tr>\n",
       "      <th>0</th>\n",
       "      <td>13</td>\n",
       "      <td>18</td>\n",
       "      <td>40940.5</td>\n",
       "      <td>0</td>\n",
       "    </tr>\n",
       "    <tr>\n",
       "      <th>1</th>\n",
       "      <td>18</td>\n",
       "      <td>13</td>\n",
       "      <td>40940.5</td>\n",
       "      <td>1</td>\n",
       "    </tr>\n",
       "    <tr>\n",
       "      <th>2</th>\n",
       "      <td>12</td>\n",
       "      <td>13</td>\n",
       "      <td>3447.5</td>\n",
       "      <td>2</td>\n",
       "    </tr>\n",
       "    <tr>\n",
       "      <th>3</th>\n",
       "      <td>12</td>\n",
       "      <td>18</td>\n",
       "      <td>3447.5</td>\n",
       "      <td>3</td>\n",
       "    </tr>\n",
       "    <tr>\n",
       "      <th>4</th>\n",
       "      <td>25</td>\n",
       "      <td>13</td>\n",
       "      <td>245.0</td>\n",
       "      <td>4</td>\n",
       "    </tr>\n",
       "  </tbody>\n",
       "</table>\n",
       "</div>"
      ],
      "text/plain": [
       "   orig_node_id  dest_node_id  trip_count  path_id\n",
       "0            13            18     40940.5        0\n",
       "1            18            13     40940.5        1\n",
       "2            12            13      3447.5        2\n",
       "3            12            18      3447.5        3\n",
       "4            25            13       245.0        4"
      ]
     },
     "execution_count": 2,
     "metadata": {},
     "output_type": "execute_result"
    }
   ],
   "source": [
    "OD_info = pd.read_csv('../scratch/OD_info.csv')\n",
    "OD_info.head()"
   ]
  },
  {
   "cell_type": "code",
   "execution_count": 3,
   "metadata": {},
   "outputs": [
    {
     "data": {
      "text/html": [
       "<div>\n",
       "<style scoped>\n",
       "    .dataframe tbody tr th:only-of-type {\n",
       "        vertical-align: middle;\n",
       "    }\n",
       "\n",
       "    .dataframe tbody tr th {\n",
       "        vertical-align: top;\n",
       "    }\n",
       "\n",
       "    .dataframe thead th {\n",
       "        text-align: right;\n",
       "    }\n",
       "</style>\n",
       "<table border=\"1\" class=\"dataframe\">\n",
       "  <thead>\n",
       "    <tr style=\"text-align: right;\">\n",
       "      <th></th>\n",
       "      <th>path_id</th>\n",
       "      <th>refuel_at</th>\n",
       "      <th>fuel_km</th>\n",
       "    </tr>\n",
       "  </thead>\n",
       "  <tbody>\n",
       "    <tr>\n",
       "      <th>0</th>\n",
       "      <td>0</td>\n",
       "      <td>18</td>\n",
       "      <td>145.0</td>\n",
       "    </tr>\n",
       "    <tr>\n",
       "      <th>1</th>\n",
       "      <td>1</td>\n",
       "      <td>18</td>\n",
       "      <td>120.0</td>\n",
       "    </tr>\n",
       "    <tr>\n",
       "      <th>2</th>\n",
       "      <td>3</td>\n",
       "      <td>18</td>\n",
       "      <td>163.0</td>\n",
       "    </tr>\n",
       "    <tr>\n",
       "      <th>3</th>\n",
       "      <td>4</td>\n",
       "      <td>51</td>\n",
       "      <td>233.0</td>\n",
       "    </tr>\n",
       "    <tr>\n",
       "      <th>4</th>\n",
       "      <td>4</td>\n",
       "      <td>18</td>\n",
       "      <td>104.0</td>\n",
       "    </tr>\n",
       "  </tbody>\n",
       "</table>\n",
       "</div>"
      ],
      "text/plain": [
       "   path_id  refuel_at  fuel_km\n",
       "0        0         18    145.0\n",
       "1        1         18    120.0\n",
       "2        3         18    163.0\n",
       "3        4         51    233.0\n",
       "4        4         18    104.0"
      ]
     },
     "execution_count": 3,
     "metadata": {},
     "output_type": "execute_result"
    }
   ],
   "source": [
    "Path_fuel_info = pd.read_csv('../scratch/Paths_fuel_km.csv')\n",
    "Path_fuel_info.head()"
   ]
  },
  {
   "cell_type": "code",
   "execution_count": 4,
   "metadata": {},
   "outputs": [
    {
     "data": {
      "text/html": [
       "<div>\n",
       "<style scoped>\n",
       "    .dataframe tbody tr th:only-of-type {\n",
       "        vertical-align: middle;\n",
       "    }\n",
       "\n",
       "    .dataframe tbody tr th {\n",
       "        vertical-align: top;\n",
       "    }\n",
       "\n",
       "    .dataframe thead th {\n",
       "        text-align: right;\n",
       "    }\n",
       "</style>\n",
       "<table border=\"1\" class=\"dataframe\">\n",
       "  <thead>\n",
       "    <tr style=\"text-align: right;\">\n",
       "      <th></th>\n",
       "      <th>node_id</th>\n",
       "      <th>node_name</th>\n",
       "      <th>rank</th>\n",
       "      <th>lon</th>\n",
       "      <th>lat</th>\n",
       "      <th>latlon_str</th>\n",
       "      <th>latlon_delim_pos</th>\n",
       "      <th>faf_zone</th>\n",
       "      <th>OD</th>\n",
       "      <th>county_long</th>\n",
       "      <th>county_short</th>\n",
       "      <th>County_No</th>\n",
       "    </tr>\n",
       "  </thead>\n",
       "  <tbody>\n",
       "    <tr>\n",
       "      <th>0</th>\n",
       "      <td>1</td>\n",
       "      <td>Redding</td>\n",
       "      <td>1</td>\n",
       "      <td>-122.360642</td>\n",
       "      <td>40.585450</td>\n",
       "      <td>40.58545,-122.360642</td>\n",
       "      <td>9</td>\n",
       "      <td>Rest of CA</td>\n",
       "      <td>1</td>\n",
       "      <td>Shasta County</td>\n",
       "      <td>Shasta</td>\n",
       "      <td>45</td>\n",
       "    </tr>\n",
       "    <tr>\n",
       "      <th>1</th>\n",
       "      <td>2</td>\n",
       "      <td>Red Bluff</td>\n",
       "      <td>1</td>\n",
       "      <td>-122.224084</td>\n",
       "      <td>40.179209</td>\n",
       "      <td>40.179209,-122.224084</td>\n",
       "      <td>10</td>\n",
       "      <td>Rest of CA</td>\n",
       "      <td>1</td>\n",
       "      <td>Tehama County</td>\n",
       "      <td>Tehama</td>\n",
       "      <td>52</td>\n",
       "    </tr>\n",
       "    <tr>\n",
       "      <th>2</th>\n",
       "      <td>3</td>\n",
       "      <td>Dunnigan</td>\n",
       "      <td>2</td>\n",
       "      <td>-121.953458</td>\n",
       "      <td>38.860841</td>\n",
       "      <td>38.860841,-121.953458</td>\n",
       "      <td>10</td>\n",
       "      <td>None</td>\n",
       "      <td>0</td>\n",
       "      <td>Yolo County</td>\n",
       "      <td>Yolo</td>\n",
       "      <td>57</td>\n",
       "    </tr>\n",
       "    <tr>\n",
       "      <th>3</th>\n",
       "      <td>4</td>\n",
       "      <td>Woodland</td>\n",
       "      <td>2</td>\n",
       "      <td>-121.755159</td>\n",
       "      <td>38.689872</td>\n",
       "      <td>38.689872,-121.755159</td>\n",
       "      <td>10</td>\n",
       "      <td>None</td>\n",
       "      <td>0</td>\n",
       "      <td>Yolo County</td>\n",
       "      <td>Yolo</td>\n",
       "      <td>57</td>\n",
       "    </tr>\n",
       "    <tr>\n",
       "      <th>4</th>\n",
       "      <td>5</td>\n",
       "      <td>SMF</td>\n",
       "      <td>1</td>\n",
       "      <td>-121.593640</td>\n",
       "      <td>38.671090</td>\n",
       "      <td>38.67109,-121.59364</td>\n",
       "      <td>9</td>\n",
       "      <td>Sacramento CA</td>\n",
       "      <td>1</td>\n",
       "      <td>Sacramento County</td>\n",
       "      <td>Sacramento</td>\n",
       "      <td>34</td>\n",
       "    </tr>\n",
       "  </tbody>\n",
       "</table>\n",
       "</div>"
      ],
      "text/plain": [
       "   node_id  node_name  rank         lon        lat             latlon_str  \\\n",
       "0        1    Redding     1 -122.360642  40.585450   40.58545,-122.360642   \n",
       "1        2  Red Bluff     1 -122.224084  40.179209  40.179209,-122.224084   \n",
       "2        3   Dunnigan     2 -121.953458  38.860841  38.860841,-121.953458   \n",
       "3        4   Woodland     2 -121.755159  38.689872  38.689872,-121.755159   \n",
       "4        5        SMF     1 -121.593640  38.671090    38.67109,-121.59364   \n",
       "\n",
       "   latlon_delim_pos       faf_zone  OD        county_long county_short  \\\n",
       "0                 9     Rest of CA   1      Shasta County       Shasta   \n",
       "1                10     Rest of CA   1      Tehama County       Tehama   \n",
       "2                10           None   0        Yolo County         Yolo   \n",
       "3                10           None   0        Yolo County         Yolo   \n",
       "4                 9  Sacramento CA   1  Sacramento County   Sacramento   \n",
       "\n",
       "   County_No  \n",
       "0         45  \n",
       "1         52  \n",
       "2         57  \n",
       "3         57  \n",
       "4         34  "
      ]
     },
     "execution_count": 4,
     "metadata": {},
     "output_type": "execute_result"
    }
   ],
   "source": [
    "Nodes_info = pd.read_csv('../scratch/Nodes_info.csv')\n",
    "Nodes_info.head()"
   ]
  },
  {
   "cell_type": "markdown",
   "metadata": {},
   "source": [
    "## Aggregate Fuel Info by HRS"
   ]
  },
  {
   "cell_type": "code",
   "execution_count": 5,
   "metadata": {
    "collapsed": true
   },
   "outputs": [],
   "source": [
    "from config import LH_FCET_MPkgH2"
   ]
  },
  {
   "cell_type": "code",
   "execution_count": 6,
   "metadata": {},
   "outputs": [
    {
     "data": {
      "text/html": [
       "<div>\n",
       "<style scoped>\n",
       "    .dataframe tbody tr th:only-of-type {\n",
       "        vertical-align: middle;\n",
       "    }\n",
       "\n",
       "    .dataframe tbody tr th {\n",
       "        vertical-align: top;\n",
       "    }\n",
       "\n",
       "    .dataframe thead th {\n",
       "        text-align: right;\n",
       "    }\n",
       "</style>\n",
       "<table border=\"1\" class=\"dataframe\">\n",
       "  <thead>\n",
       "    <tr style=\"text-align: right;\">\n",
       "      <th></th>\n",
       "      <th>path_id</th>\n",
       "      <th>refuel_at</th>\n",
       "      <th>fuel_km</th>\n",
       "      <th>orig_node_id</th>\n",
       "      <th>dest_node_id</th>\n",
       "      <th>trip_count</th>\n",
       "      <th>fuel_mile</th>\n",
       "      <th>fuel_kgH2</th>\n",
       "    </tr>\n",
       "  </thead>\n",
       "  <tbody>\n",
       "    <tr>\n",
       "      <th>0</th>\n",
       "      <td>0</td>\n",
       "      <td>18</td>\n",
       "      <td>145.0</td>\n",
       "      <td>13</td>\n",
       "      <td>18</td>\n",
       "      <td>40940.5</td>\n",
       "      <td>90.118086</td>\n",
       "      <td>409942.165596</td>\n",
       "    </tr>\n",
       "    <tr>\n",
       "      <th>1</th>\n",
       "      <td>1</td>\n",
       "      <td>18</td>\n",
       "      <td>120.0</td>\n",
       "      <td>18</td>\n",
       "      <td>13</td>\n",
       "      <td>40940.5</td>\n",
       "      <td>74.580485</td>\n",
       "      <td>339262.481873</td>\n",
       "    </tr>\n",
       "    <tr>\n",
       "      <th>2</th>\n",
       "      <td>3</td>\n",
       "      <td>18</td>\n",
       "      <td>163.0</td>\n",
       "      <td>12</td>\n",
       "      <td>18</td>\n",
       "      <td>3447.5</td>\n",
       "      <td>101.305158</td>\n",
       "      <td>38805.503764</td>\n",
       "    </tr>\n",
       "    <tr>\n",
       "      <th>3</th>\n",
       "      <td>4</td>\n",
       "      <td>51</td>\n",
       "      <td>233.0</td>\n",
       "      <td>25</td>\n",
       "      <td>13</td>\n",
       "      <td>245.0</td>\n",
       "      <td>144.810441</td>\n",
       "      <td>3942.062012</td>\n",
       "    </tr>\n",
       "    <tr>\n",
       "      <th>4</th>\n",
       "      <td>4</td>\n",
       "      <td>18</td>\n",
       "      <td>104.0</td>\n",
       "      <td>25</td>\n",
       "      <td>13</td>\n",
       "      <td>245.0</td>\n",
       "      <td>64.636420</td>\n",
       "      <td>1759.546993</td>\n",
       "    </tr>\n",
       "  </tbody>\n",
       "</table>\n",
       "</div>"
      ],
      "text/plain": [
       "   path_id  refuel_at  fuel_km  orig_node_id  dest_node_id  trip_count  \\\n",
       "0        0         18    145.0            13            18     40940.5   \n",
       "1        1         18    120.0            18            13     40940.5   \n",
       "2        3         18    163.0            12            18      3447.5   \n",
       "3        4         51    233.0            25            13       245.0   \n",
       "4        4         18    104.0            25            13       245.0   \n",
       "\n",
       "    fuel_mile      fuel_kgH2  \n",
       "0   90.118086  409942.165596  \n",
       "1   74.580485  339262.481873  \n",
       "2  101.305158   38805.503764  \n",
       "3  144.810441    3942.062012  \n",
       "4   64.636420    1759.546993  "
      ]
     },
     "execution_count": 6,
     "metadata": {},
     "output_type": "execute_result"
    }
   ],
   "source": [
    "path_fuel = pd.merge(Path_fuel_info, OD_info, how='left', on='path_id')\n",
    "path_fuel['fuel_mile'] = path_fuel['fuel_km']/1.609\n",
    "path_fuel['fuel_kgH2'] = path_fuel['fuel_mile'] / LH_FCET_MPkgH2 * path_fuel['trip_count']\n",
    "path_fuel.head()"
   ]
  },
  {
   "cell_type": "code",
   "execution_count": 7,
   "metadata": {},
   "outputs": [],
   "source": [
    "hrs_fuel = path_fuel.groupby('refuel_at')[['fuel_kgH2']].sum()\n",
    "hrs_fuel.rename_axis('hrs_node_id', axis=0, inplace=True)\n",
    "hrs_fuel.rename(columns={'fuel_kgH2': 'daily_kgH2'}, inplace=True)\n",
    "hrs_fuel = pd.merge(hrs_fuel, Nodes_info[['node_id', 'node_name']], how='left', left_index=True, right_on='node_id')\n",
    "hrs_fuel.rename(columns={'node_id':'hrs_node_id'}, inplace=True)\n",
    "hrs_fuel = hrs_fuel[['hrs_node_id', 'node_name', 'daily_kgH2']]\n",
    "hrs_fuel.sort_values('daily_kgH2', ascending=False, inplace=True)"
   ]
  },
  {
   "cell_type": "code",
   "execution_count": 8,
   "metadata": {
    "collapsed": true
   },
   "outputs": [],
   "source": [
    "hrs_fuel.to_csv('../output/HRS_Daily_kgH2.csv')"
   ]
  },
  {
   "cell_type": "markdown",
   "metadata": {},
   "source": [
    "## HRS Size Bar Chart"
   ]
  },
  {
   "cell_type": "code",
   "execution_count": 9,
   "metadata": {
    "collapsed": true
   },
   "outputs": [],
   "source": [
    "# import seaborn as sns\n",
    "# print('Seaborn version:', sns.__version__)"
   ]
  },
  {
   "cell_type": "code",
   "execution_count": 34,
   "metadata": {},
   "outputs": [],
   "source": [
    "plt.style.use('seaborn-paper')"
   ]
  },
  {
   "cell_type": "code",
   "execution_count": 35,
   "metadata": {},
   "outputs": [
    {
     "data": {
      "image/png": "[encoded data removed]",
      "text/plain": [
       "<matplotlib.figure.Figure at 0x114dc47f0>"
      ]
     },
     "metadata": {},
     "output_type": "display_data"
    }
   ],
   "source": [
    "ax = hrs_fuel[['daily_kgH2']].plot.bar()\n",
    "ax.get_yaxis().set_major_formatter(plt.FuncFormatter(lambda x, loc: '{:,}'.format(int(x))))\n",
    "ax.set_xticklabels(hrs_fuel.node_name)\n",
    "ax.set_xlabel('HRS location (for long-haul FCVs)')\n",
    "ax.legend(['Daily hydrogen demand (kgH2/day)'])\n",
    "\n",
    "plt.savefig('../visualization/LH HRS Sizes.png', bbox_inches='tight')"
   ]
  },
  {
   "cell_type": "code",
   "execution_count": null,
   "metadata": {
    "collapsed": true
   },
   "outputs": [],
   "source": []
  }
 ],
 "metadata": {
  "kernelspec": {
   "display_name": "Python 3",
   "language": "python",
   "name": "python3"
  },
  "language_info": {
   "codemirror_mode": {
    "name": "ipython",
    "version": 3
   },
   "file_extension": ".py",
   "mimetype": "text/x-python",
   "name": "python",
   "nbconvert_exporter": "python",
   "pygments_lexer": "ipython3",
   "version": "3.6.3"
  },
  "toc": {
   "nav_menu": {},
   "number_sections": true,
   "sideBar": false,
   "skip_h1_title": true,
   "toc_cell": true,
   "toc_position": {
    "height": "346px",
    "left": "1469.95px",
    "right": "20px",
    "top": "106.5px",
    "width": "434px"
   },
   "toc_section_display": "block",
   "toc_window_display": true
  }
 },
 "nbformat": 4,
 "nbformat_minor": 2
}
