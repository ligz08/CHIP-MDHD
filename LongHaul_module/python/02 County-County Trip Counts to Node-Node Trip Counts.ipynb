{
 "cells": [
  {
   "cell_type": "markdown",
   "metadata": {
    "toc": true
   },
   "source": [
    "<h1>Table of Contents<span class=\"tocSkip\"></span></h1>\n",
    "<div class=\"toc\" style=\"margin-top: 1em;\"><ul class=\"toc-item\"><li><span><a href=\"#Load-County-County-HCV-Trip-Counts\" data-toc-modified-id=\"Load-County-County-HCV-Trip-Counts-1\"><span class=\"toc-item-num\">1&nbsp;&nbsp;</span>Load County-County HCV Trip Counts</a></span></li><li><span><a href=\"#Map-Nodes-to-County\" data-toc-modified-id=\"Map-Nodes-to-County-2\"><span class=\"toc-item-num\">2&nbsp;&nbsp;</span>Map Nodes to County</a></span><ul class=\"toc-item\"><li><span><a href=\"#Load-nodes\" data-toc-modified-id=\"Load-nodes-2.1\"><span class=\"toc-item-num\">2.1&nbsp;&nbsp;</span>Load nodes</a></span></li><li><span><a href=\"#latlon-→-county,-for-each-node\" data-toc-modified-id=\"latlon-→-county,-for-each-node-2.2\"><span class=\"toc-item-num\">2.2&nbsp;&nbsp;</span>latlon → county, for each node</a></span></li><li><span><a href=\"#County-name-→-county_id,-for-each-node\" data-toc-modified-id=\"County-name-→-county_id,-for-each-node-2.3\"><span class=\"toc-item-num\">2.3&nbsp;&nbsp;</span>County name → county_id, for each node</a></span></li></ul></li><li><span><a href=\"#Split-county-county-trips-among-nodes-inside\" data-toc-modified-id=\"Split-county-county-trips-among-nodes-inside-3\"><span class=\"toc-item-num\">3&nbsp;&nbsp;</span>Split county-county trips among nodes inside</a></span></li><li><span><a href=\"#How-many-trips-are-considered-in-the-network-graph?\" data-toc-modified-id=\"How-many-trips-are-considered-in-the-network-graph?-4\"><span class=\"toc-item-num\">4&nbsp;&nbsp;</span>How many trips are considered in the network graph?</a></span></li></ul></div>"
   ]
  },
  {
   "cell_type": "code",
   "execution_count": 1,
   "metadata": {
    "collapsed": true
   },
   "outputs": [],
   "source": [
    "import pandas as pd"
   ]
  },
  {
   "cell_type": "markdown",
   "metadata": {},
   "source": [
    "## Load County-County HCV Trip Counts"
   ]
  },
  {
   "cell_type": "markdown",
   "metadata": {},
   "source": [
    "***Note***: Run \"`01 CSTDM County-County CV Trips.. Extract HD from All CVs.ipynb`\" before this script"
   ]
  },
  {
   "cell_type": "code",
   "execution_count": 2,
   "metadata": {
    "collapsed": true
   },
   "outputs": [],
   "source": [
    "hcv_trips = pd.read_csv('../scratch/HCV_TripsOD_2040.csv')"
   ]
  },
  {
   "cell_type": "code",
   "execution_count": 3,
   "metadata": {
    "scrolled": false
   },
   "outputs": [
    {
     "data": {
      "text/html": [
       "<div>\n",
       "<style scoped>\n",
       "    .dataframe tbody tr th:only-of-type {\n",
       "        vertical-align: middle;\n",
       "    }\n",
       "\n",
       "    .dataframe tbody tr th {\n",
       "        vertical-align: top;\n",
       "    }\n",
       "\n",
       "    .dataframe thead th {\n",
       "        text-align: right;\n",
       "    }\n",
       "</style>\n",
       "<table border=\"1\" class=\"dataframe\">\n",
       "  <thead>\n",
       "    <tr style=\"text-align: right;\">\n",
       "      <th></th>\n",
       "      <th>O_County</th>\n",
       "      <th>D_County</th>\n",
       "      <th>Trips</th>\n",
       "    </tr>\n",
       "  </thead>\n",
       "  <tbody>\n",
       "    <tr>\n",
       "      <th>0</th>\n",
       "      <td>1</td>\n",
       "      <td>1</td>\n",
       "      <td>81881.0</td>\n",
       "    </tr>\n",
       "    <tr>\n",
       "      <th>1</th>\n",
       "      <td>1</td>\n",
       "      <td>2</td>\n",
       "      <td>0.0</td>\n",
       "    </tr>\n",
       "    <tr>\n",
       "      <th>2</th>\n",
       "      <td>1</td>\n",
       "      <td>3</td>\n",
       "      <td>6.0</td>\n",
       "    </tr>\n",
       "    <tr>\n",
       "      <th>3</th>\n",
       "      <td>1</td>\n",
       "      <td>4</td>\n",
       "      <td>68.0</td>\n",
       "    </tr>\n",
       "    <tr>\n",
       "      <th>4</th>\n",
       "      <td>1</td>\n",
       "      <td>5</td>\n",
       "      <td>8.0</td>\n",
       "    </tr>\n",
       "  </tbody>\n",
       "</table>\n",
       "</div>"
      ],
      "text/plain": [
       "   O_County  D_County    Trips\n",
       "0         1         1  81881.0\n",
       "1         1         2      0.0\n",
       "2         1         3      6.0\n",
       "3         1         4     68.0\n",
       "4         1         5      8.0"
      ]
     },
     "execution_count": 3,
     "metadata": {},
     "output_type": "execute_result"
    }
   ],
   "source": [
    "hcv_trips.head()"
   ]
  },
  {
   "cell_type": "markdown",
   "metadata": {},
   "source": [
    "## Map Nodes to County"
   ]
  },
  {
   "cell_type": "markdown",
   "metadata": {},
   "source": [
    "### Load nodes"
   ]
  },
  {
   "cell_type": "code",
   "execution_count": 4,
   "metadata": {
    "collapsed": true
   },
   "outputs": [],
   "source": [
    "nodes = pd.read_excel('../input/Nodes_manual_input.xlsx')"
   ]
  },
  {
   "cell_type": "code",
   "execution_count": 5,
   "metadata": {},
   "outputs": [
    {
     "data": {
      "text/html": [
       "<div>\n",
       "<style scoped>\n",
       "    .dataframe tbody tr th:only-of-type {\n",
       "        vertical-align: middle;\n",
       "    }\n",
       "\n",
       "    .dataframe tbody tr th {\n",
       "        vertical-align: top;\n",
       "    }\n",
       "\n",
       "    .dataframe thead th {\n",
       "        text-align: right;\n",
       "    }\n",
       "</style>\n",
       "<table border=\"1\" class=\"dataframe\">\n",
       "  <thead>\n",
       "    <tr style=\"text-align: right;\">\n",
       "      <th></th>\n",
       "      <th>node_id</th>\n",
       "      <th>node_name</th>\n",
       "      <th>rank</th>\n",
       "      <th>lon</th>\n",
       "      <th>lat</th>\n",
       "      <th>latlon_str</th>\n",
       "      <th>latlon_delim_pos</th>\n",
       "      <th>faf_zone</th>\n",
       "      <th>OD</th>\n",
       "    </tr>\n",
       "  </thead>\n",
       "  <tbody>\n",
       "    <tr>\n",
       "      <th>0</th>\n",
       "      <td>1</td>\n",
       "      <td>Redding</td>\n",
       "      <td>1</td>\n",
       "      <td>-122.360642</td>\n",
       "      <td>40.585450</td>\n",
       "      <td>40.58545,-122.360642</td>\n",
       "      <td>9</td>\n",
       "      <td>Rest of CA</td>\n",
       "      <td>1</td>\n",
       "    </tr>\n",
       "    <tr>\n",
       "      <th>1</th>\n",
       "      <td>2</td>\n",
       "      <td>Red Bluff</td>\n",
       "      <td>1</td>\n",
       "      <td>-122.224084</td>\n",
       "      <td>40.179209</td>\n",
       "      <td>40.179209,-122.224084</td>\n",
       "      <td>10</td>\n",
       "      <td>Rest of CA</td>\n",
       "      <td>1</td>\n",
       "    </tr>\n",
       "    <tr>\n",
       "      <th>2</th>\n",
       "      <td>3</td>\n",
       "      <td>Dunnigan</td>\n",
       "      <td>2</td>\n",
       "      <td>-121.953458</td>\n",
       "      <td>38.860841</td>\n",
       "      <td>38.860841,-121.953458</td>\n",
       "      <td>10</td>\n",
       "      <td>None</td>\n",
       "      <td>0</td>\n",
       "    </tr>\n",
       "    <tr>\n",
       "      <th>3</th>\n",
       "      <td>4</td>\n",
       "      <td>Woodland</td>\n",
       "      <td>2</td>\n",
       "      <td>-121.755159</td>\n",
       "      <td>38.689872</td>\n",
       "      <td>38.689872,-121.755159</td>\n",
       "      <td>10</td>\n",
       "      <td>None</td>\n",
       "      <td>0</td>\n",
       "    </tr>\n",
       "    <tr>\n",
       "      <th>4</th>\n",
       "      <td>5</td>\n",
       "      <td>SMF</td>\n",
       "      <td>1</td>\n",
       "      <td>-121.593640</td>\n",
       "      <td>38.671090</td>\n",
       "      <td>38.67109,-121.59364</td>\n",
       "      <td>9</td>\n",
       "      <td>Sacramento CA</td>\n",
       "      <td>1</td>\n",
       "    </tr>\n",
       "  </tbody>\n",
       "</table>\n",
       "</div>"
      ],
      "text/plain": [
       "   node_id  node_name  rank         lon        lat             latlon_str  \\\n",
       "0        1    Redding     1 -122.360642  40.585450   40.58545,-122.360642   \n",
       "1        2  Red Bluff     1 -122.224084  40.179209  40.179209,-122.224084   \n",
       "2        3   Dunnigan     2 -121.953458  38.860841  38.860841,-121.953458   \n",
       "3        4   Woodland     2 -121.755159  38.689872  38.689872,-121.755159   \n",
       "4        5        SMF     1 -121.593640  38.671090    38.67109,-121.59364   \n",
       "\n",
       "   latlon_delim_pos       faf_zone  OD  \n",
       "0                 9     Rest of CA   1  \n",
       "1                10     Rest of CA   1  \n",
       "2                10           None   0  \n",
       "3                10           None   0  \n",
       "4                 9  Sacramento CA   1  "
      ]
     },
     "metadata": {},
     "output_type": "display_data"
    },
    {
     "name": "stdout",
     "output_type": "stream",
     "text": [
      "<class 'pandas.core.frame.DataFrame'>\n",
      "RangeIndex: 75 entries, 0 to 74\n",
      "Data columns (total 9 columns):\n",
      "node_id             75 non-null int64\n",
      "node_name           75 non-null object\n",
      "rank                75 non-null int64\n",
      "lon                 75 non-null float64\n",
      "lat                 75 non-null float64\n",
      "latlon_str          75 non-null object\n",
      "latlon_delim_pos    75 non-null int64\n",
      "faf_zone            75 non-null object\n",
      "OD                  75 non-null int64\n",
      "dtypes: float64(2), int64(4), object(3)\n",
      "memory usage: 5.4+ KB\n"
     ]
    },
    {
     "data": {
      "text/plain": [
       "None"
      ]
     },
     "metadata": {},
     "output_type": "display_data"
    }
   ],
   "source": [
    "display(nodes.head())\n",
    "display(nodes.info())"
   ]
  },
  {
   "cell_type": "markdown",
   "metadata": {},
   "source": [
    "### latlon → county, for each node"
   ]
  },
  {
   "cell_type": "markdown",
   "metadata": {},
   "source": [
    "Define a function to find county from lat-lon coordinates\n",
    "\n",
    "Note: the `Nominatim.reverse()` function of `geopy` returns a `Location` object.  \n",
    "Raw `Location` data (`Location.raw`) is a dictionary that looks like this:\n",
    "```\n",
    "{'address': {'city': 'SF',\n",
    "  'country': 'United States of America',\n",
    "  'country_code': 'us',\n",
    "  'county': 'SF',\n",
    "  'neighbourhood': 'West SoMa',\n",
    "  'postcode': '94114',\n",
    "  'road': 'James Lick Freeway',\n",
    "  'state': 'California'},\n",
    " 'boundingbox': ['37.7719252', '37.776113', '-122.4068281', '-122.4050958'],\n",
    " 'display_name': 'James Lick Freeway, West SoMa, SF, California, 94114, United States of America',\n",
    " 'lat': '37.7743586',\n",
    " 'licence': 'Data © OpenStreetMap contributors, ODbL 1.0. http://www.openstreetmap.org/copyright',\n",
    " 'lon': '-122.4066586',\n",
    " 'osm_id': '31129732',\n",
    " 'osm_type': 'way',\n",
    " 'place_id': '78309211'}\n",
    "```"
   ]
  },
  {
   "cell_type": "code",
   "execution_count": 6,
   "metadata": {
    "collapsed": true
   },
   "outputs": [],
   "source": [
    "def getCounty(latlon):\n",
    "    # Refs:\n",
    "    # - TimeOutError: https://gis.stackexchange.com/questions/173569/avoid-time-out-error-nominatim-geopy-open-street-maps\n",
    "    from geopy.geocoders import Nominatim\n",
    "    from geopy.exc import GeocoderTimedOut\n",
    "    import time\n",
    "    geolocator = Nominatim()\n",
    "    try:\n",
    "        return geolocator.reverse(latlon).raw['address']['county']\n",
    "    except GeocoderTimedOut:\n",
    "        time.sleep(0.01)    # wait and try again\n",
    "        return getCounty(latlon)"
   ]
  },
  {
   "cell_type": "markdown",
   "metadata": {},
   "source": [
    "(Expect ~3 minutes running time for the county matching)"
   ]
  },
  {
   "cell_type": "code",
   "execution_count": 7,
   "metadata": {
    "scrolled": false
   },
   "outputs": [
    {
     "name": "stdout",
     "output_type": "stream",
     "text": [
      "CPU times: user 1.18 s, sys: 119 ms, total: 1.3 s\n",
      "Wall time: 1min 41s\n"
     ]
    }
   ],
   "source": [
    "%%time\n",
    "nodes['county_long'] = nodes.latlon_str.apply(getCounty)"
   ]
  },
  {
   "cell_type": "markdown",
   "metadata": {},
   "source": [
    "Re-format county name"
   ]
  },
  {
   "cell_type": "code",
   "execution_count": 8,
   "metadata": {
    "collapsed": true
   },
   "outputs": [],
   "source": [
    "def shortenCounty(county_long):\n",
    "    '''\n",
    "    Strip the word 'County' from county name string. \n",
    "    E.g. shortenCounty('Alameda County') → 'Alameda'\n",
    "    Acronyms like 'SF' will be spelt out.\n",
    "    E.g. shortenCounty('SF County') → 'San Francisco'\n",
    "    '''\n",
    "    import re\n",
    "    acronyms = {'SF': 'San Francisco'}\n",
    "    short = re.sub(pattern='county', repl='', string=county_long, flags=re.IGNORECASE).strip()\n",
    "    if short in acronyms: short = acronyms[short];\n",
    "    return short"
   ]
  },
  {
   "cell_type": "code",
   "execution_count": 9,
   "metadata": {
    "collapsed": true
   },
   "outputs": [],
   "source": [
    "nodes['county_short'] = nodes['county_long'].apply(shortenCounty)"
   ]
  },
  {
   "cell_type": "code",
   "execution_count": 10,
   "metadata": {},
   "outputs": [
    {
     "data": {
      "text/html": [
       "<div>\n",
       "<style scoped>\n",
       "    .dataframe tbody tr th:only-of-type {\n",
       "        vertical-align: middle;\n",
       "    }\n",
       "\n",
       "    .dataframe tbody tr th {\n",
       "        vertical-align: top;\n",
       "    }\n",
       "\n",
       "    .dataframe thead th {\n",
       "        text-align: right;\n",
       "    }\n",
       "</style>\n",
       "<table border=\"1\" class=\"dataframe\">\n",
       "  <thead>\n",
       "    <tr style=\"text-align: right;\">\n",
       "      <th></th>\n",
       "      <th>node_id</th>\n",
       "      <th>node_name</th>\n",
       "      <th>rank</th>\n",
       "      <th>lon</th>\n",
       "      <th>lat</th>\n",
       "      <th>latlon_str</th>\n",
       "      <th>latlon_delim_pos</th>\n",
       "      <th>faf_zone</th>\n",
       "      <th>OD</th>\n",
       "      <th>county_long</th>\n",
       "      <th>county_short</th>\n",
       "    </tr>\n",
       "  </thead>\n",
       "  <tbody>\n",
       "    <tr>\n",
       "      <th>0</th>\n",
       "      <td>1</td>\n",
       "      <td>Redding</td>\n",
       "      <td>1</td>\n",
       "      <td>-122.360642</td>\n",
       "      <td>40.585450</td>\n",
       "      <td>40.58545,-122.360642</td>\n",
       "      <td>9</td>\n",
       "      <td>Rest of CA</td>\n",
       "      <td>1</td>\n",
       "      <td>Shasta County</td>\n",
       "      <td>Shasta</td>\n",
       "    </tr>\n",
       "    <tr>\n",
       "      <th>1</th>\n",
       "      <td>2</td>\n",
       "      <td>Red Bluff</td>\n",
       "      <td>1</td>\n",
       "      <td>-122.224084</td>\n",
       "      <td>40.179209</td>\n",
       "      <td>40.179209,-122.224084</td>\n",
       "      <td>10</td>\n",
       "      <td>Rest of CA</td>\n",
       "      <td>1</td>\n",
       "      <td>Tehama County</td>\n",
       "      <td>Tehama</td>\n",
       "    </tr>\n",
       "    <tr>\n",
       "      <th>2</th>\n",
       "      <td>3</td>\n",
       "      <td>Dunnigan</td>\n",
       "      <td>2</td>\n",
       "      <td>-121.953458</td>\n",
       "      <td>38.860841</td>\n",
       "      <td>38.860841,-121.953458</td>\n",
       "      <td>10</td>\n",
       "      <td>None</td>\n",
       "      <td>0</td>\n",
       "      <td>Yolo County</td>\n",
       "      <td>Yolo</td>\n",
       "    </tr>\n",
       "    <tr>\n",
       "      <th>3</th>\n",
       "      <td>4</td>\n",
       "      <td>Woodland</td>\n",
       "      <td>2</td>\n",
       "      <td>-121.755159</td>\n",
       "      <td>38.689872</td>\n",
       "      <td>38.689872,-121.755159</td>\n",
       "      <td>10</td>\n",
       "      <td>None</td>\n",
       "      <td>0</td>\n",
       "      <td>Yolo County</td>\n",
       "      <td>Yolo</td>\n",
       "    </tr>\n",
       "    <tr>\n",
       "      <th>4</th>\n",
       "      <td>5</td>\n",
       "      <td>SMF</td>\n",
       "      <td>1</td>\n",
       "      <td>-121.593640</td>\n",
       "      <td>38.671090</td>\n",
       "      <td>38.67109,-121.59364</td>\n",
       "      <td>9</td>\n",
       "      <td>Sacramento CA</td>\n",
       "      <td>1</td>\n",
       "      <td>Sacramento County</td>\n",
       "      <td>Sacramento</td>\n",
       "    </tr>\n",
       "  </tbody>\n",
       "</table>\n",
       "</div>"
      ],
      "text/plain": [
       "   node_id  node_name  rank         lon        lat             latlon_str  \\\n",
       "0        1    Redding     1 -122.360642  40.585450   40.58545,-122.360642   \n",
       "1        2  Red Bluff     1 -122.224084  40.179209  40.179209,-122.224084   \n",
       "2        3   Dunnigan     2 -121.953458  38.860841  38.860841,-121.953458   \n",
       "3        4   Woodland     2 -121.755159  38.689872  38.689872,-121.755159   \n",
       "4        5        SMF     1 -121.593640  38.671090    38.67109,-121.59364   \n",
       "\n",
       "   latlon_delim_pos       faf_zone  OD        county_long county_short  \n",
       "0                 9     Rest of CA   1      Shasta County       Shasta  \n",
       "1                10     Rest of CA   1      Tehama County       Tehama  \n",
       "2                10           None   0        Yolo County         Yolo  \n",
       "3                10           None   0        Yolo County         Yolo  \n",
       "4                 9  Sacramento CA   1  Sacramento County   Sacramento  "
      ]
     },
     "execution_count": 10,
     "metadata": {},
     "output_type": "execute_result"
    }
   ],
   "source": [
    "nodes.head()"
   ]
  },
  {
   "cell_type": "markdown",
   "metadata": {},
   "source": [
    "Unique county names"
   ]
  },
  {
   "cell_type": "code",
   "execution_count": 11,
   "metadata": {},
   "outputs": [
    {
     "data": {
      "text/plain": [
       "array(['Shasta', 'Tehama', 'Yolo', 'Sacramento', 'Placer', 'San Joaquin',\n",
       "       'Solano', 'Contra Costa', 'Alameda', 'San Francisco', 'San Mateo',\n",
       "       'Santa Clara', 'Merced', 'Kern', 'Stanislaus', 'Fresno',\n",
       "       'Los Angeles', 'Orange', 'San Bernardino', 'San Diego', 'Kings',\n",
       "       'Madera', 'Tulare', 'Glenn'], dtype=object)"
      ]
     },
     "execution_count": 11,
     "metadata": {},
     "output_type": "execute_result"
    }
   ],
   "source": [
    "nodes.county_short.unique()"
   ]
  },
  {
   "cell_type": "markdown",
   "metadata": {},
   "source": [
    "### County name → county_id, for each node"
   ]
  },
  {
   "cell_type": "code",
   "execution_count": 12,
   "metadata": {
    "collapsed": true
   },
   "outputs": [],
   "source": [
    "county_lookup = pd.read_csv('../input/CaliforniaCountyRegionLookup.csv')"
   ]
  },
  {
   "cell_type": "code",
   "execution_count": 13,
   "metadata": {
    "collapsed": true
   },
   "outputs": [],
   "source": [
    "county_lookup = county_lookup.filter(regex='County')"
   ]
  },
  {
   "cell_type": "code",
   "execution_count": 14,
   "metadata": {},
   "outputs": [
    {
     "data": {
      "text/html": [
       "<div>\n",
       "<style scoped>\n",
       "    .dataframe tbody tr th:only-of-type {\n",
       "        vertical-align: middle;\n",
       "    }\n",
       "\n",
       "    .dataframe tbody tr th {\n",
       "        vertical-align: top;\n",
       "    }\n",
       "\n",
       "    .dataframe thead th {\n",
       "        text-align: right;\n",
       "    }\n",
       "</style>\n",
       "<table border=\"1\" class=\"dataframe\">\n",
       "  <thead>\n",
       "    <tr style=\"text-align: right;\">\n",
       "      <th></th>\n",
       "      <th>County_No</th>\n",
       "      <th>County/Gateway</th>\n",
       "    </tr>\n",
       "  </thead>\n",
       "  <tbody>\n",
       "    <tr>\n",
       "      <th>0</th>\n",
       "      <td>1</td>\n",
       "      <td>Alameda</td>\n",
       "    </tr>\n",
       "    <tr>\n",
       "      <th>1</th>\n",
       "      <td>2</td>\n",
       "      <td>Alpine</td>\n",
       "    </tr>\n",
       "    <tr>\n",
       "      <th>2</th>\n",
       "      <td>3</td>\n",
       "      <td>Amador</td>\n",
       "    </tr>\n",
       "    <tr>\n",
       "      <th>3</th>\n",
       "      <td>4</td>\n",
       "      <td>Butte</td>\n",
       "    </tr>\n",
       "    <tr>\n",
       "      <th>4</th>\n",
       "      <td>5</td>\n",
       "      <td>Calaveras</td>\n",
       "    </tr>\n",
       "  </tbody>\n",
       "</table>\n",
       "</div>"
      ],
      "text/plain": [
       "   County_No County/Gateway\n",
       "0          1        Alameda\n",
       "1          2         Alpine\n",
       "2          3         Amador\n",
       "3          4          Butte\n",
       "4          5      Calaveras"
      ]
     },
     "execution_count": 14,
     "metadata": {},
     "output_type": "execute_result"
    }
   ],
   "source": [
    "county_lookup.head()"
   ]
  },
  {
   "cell_type": "code",
   "execution_count": 15,
   "metadata": {
    "collapsed": true,
    "scrolled": false
   },
   "outputs": [],
   "source": [
    "nodes = pd.merge(left=nodes, right=county_lookup, \n",
    "                 how='left', left_on='county_short', right_on='County/Gateway')\\\n",
    "        .drop('County/Gateway', axis=1)"
   ]
  },
  {
   "cell_type": "code",
   "execution_count": 16,
   "metadata": {},
   "outputs": [
    {
     "data": {
      "text/html": [
       "<div>\n",
       "<style scoped>\n",
       "    .dataframe tbody tr th:only-of-type {\n",
       "        vertical-align: middle;\n",
       "    }\n",
       "\n",
       "    .dataframe tbody tr th {\n",
       "        vertical-align: top;\n",
       "    }\n",
       "\n",
       "    .dataframe thead th {\n",
       "        text-align: right;\n",
       "    }\n",
       "</style>\n",
       "<table border=\"1\" class=\"dataframe\">\n",
       "  <thead>\n",
       "    <tr style=\"text-align: right;\">\n",
       "      <th></th>\n",
       "      <th>node_id</th>\n",
       "      <th>node_name</th>\n",
       "      <th>rank</th>\n",
       "      <th>lon</th>\n",
       "      <th>lat</th>\n",
       "      <th>latlon_str</th>\n",
       "      <th>latlon_delim_pos</th>\n",
       "      <th>faf_zone</th>\n",
       "      <th>OD</th>\n",
       "      <th>county_long</th>\n",
       "      <th>county_short</th>\n",
       "      <th>County_No</th>\n",
       "    </tr>\n",
       "  </thead>\n",
       "  <tbody>\n",
       "    <tr>\n",
       "      <th>0</th>\n",
       "      <td>1</td>\n",
       "      <td>Redding</td>\n",
       "      <td>1</td>\n",
       "      <td>-122.360642</td>\n",
       "      <td>40.585450</td>\n",
       "      <td>40.58545,-122.360642</td>\n",
       "      <td>9</td>\n",
       "      <td>Rest of CA</td>\n",
       "      <td>1</td>\n",
       "      <td>Shasta County</td>\n",
       "      <td>Shasta</td>\n",
       "      <td>45</td>\n",
       "    </tr>\n",
       "    <tr>\n",
       "      <th>1</th>\n",
       "      <td>2</td>\n",
       "      <td>Red Bluff</td>\n",
       "      <td>1</td>\n",
       "      <td>-122.224084</td>\n",
       "      <td>40.179209</td>\n",
       "      <td>40.179209,-122.224084</td>\n",
       "      <td>10</td>\n",
       "      <td>Rest of CA</td>\n",
       "      <td>1</td>\n",
       "      <td>Tehama County</td>\n",
       "      <td>Tehama</td>\n",
       "      <td>52</td>\n",
       "    </tr>\n",
       "    <tr>\n",
       "      <th>2</th>\n",
       "      <td>3</td>\n",
       "      <td>Dunnigan</td>\n",
       "      <td>2</td>\n",
       "      <td>-121.953458</td>\n",
       "      <td>38.860841</td>\n",
       "      <td>38.860841,-121.953458</td>\n",
       "      <td>10</td>\n",
       "      <td>None</td>\n",
       "      <td>0</td>\n",
       "      <td>Yolo County</td>\n",
       "      <td>Yolo</td>\n",
       "      <td>57</td>\n",
       "    </tr>\n",
       "    <tr>\n",
       "      <th>3</th>\n",
       "      <td>4</td>\n",
       "      <td>Woodland</td>\n",
       "      <td>2</td>\n",
       "      <td>-121.755159</td>\n",
       "      <td>38.689872</td>\n",
       "      <td>38.689872,-121.755159</td>\n",
       "      <td>10</td>\n",
       "      <td>None</td>\n",
       "      <td>0</td>\n",
       "      <td>Yolo County</td>\n",
       "      <td>Yolo</td>\n",
       "      <td>57</td>\n",
       "    </tr>\n",
       "    <tr>\n",
       "      <th>4</th>\n",
       "      <td>5</td>\n",
       "      <td>SMF</td>\n",
       "      <td>1</td>\n",
       "      <td>-121.593640</td>\n",
       "      <td>38.671090</td>\n",
       "      <td>38.67109,-121.59364</td>\n",
       "      <td>9</td>\n",
       "      <td>Sacramento CA</td>\n",
       "      <td>1</td>\n",
       "      <td>Sacramento County</td>\n",
       "      <td>Sacramento</td>\n",
       "      <td>34</td>\n",
       "    </tr>\n",
       "  </tbody>\n",
       "</table>\n",
       "</div>"
      ],
      "text/plain": [
       "   node_id  node_name  rank         lon        lat             latlon_str  \\\n",
       "0        1    Redding     1 -122.360642  40.585450   40.58545,-122.360642   \n",
       "1        2  Red Bluff     1 -122.224084  40.179209  40.179209,-122.224084   \n",
       "2        3   Dunnigan     2 -121.953458  38.860841  38.860841,-121.953458   \n",
       "3        4   Woodland     2 -121.755159  38.689872  38.689872,-121.755159   \n",
       "4        5        SMF     1 -121.593640  38.671090    38.67109,-121.59364   \n",
       "\n",
       "   latlon_delim_pos       faf_zone  OD        county_long county_short  \\\n",
       "0                 9     Rest of CA   1      Shasta County       Shasta   \n",
       "1                10     Rest of CA   1      Tehama County       Tehama   \n",
       "2                10           None   0        Yolo County         Yolo   \n",
       "3                10           None   0        Yolo County         Yolo   \n",
       "4                 9  Sacramento CA   1  Sacramento County   Sacramento   \n",
       "\n",
       "   County_No  \n",
       "0         45  \n",
       "1         52  \n",
       "2         57  \n",
       "3         57  \n",
       "4         34  "
      ]
     },
     "execution_count": 16,
     "metadata": {},
     "output_type": "execute_result"
    }
   ],
   "source": [
    "nodes.head()"
   ]
  },
  {
   "cell_type": "markdown",
   "metadata": {},
   "source": [
    "Save the processed `nodes` table in `../scratch/` folder"
   ]
  },
  {
   "cell_type": "code",
   "execution_count": 17,
   "metadata": {
    "collapsed": true
   },
   "outputs": [],
   "source": [
    "nodes.to_csv('../scratch/Nodes_info.csv', index=False)"
   ]
  },
  {
   "cell_type": "markdown",
   "metadata": {},
   "source": [
    "## Split county-county trips among nodes inside"
   ]
  },
  {
   "cell_type": "code",
   "execution_count": 18,
   "metadata": {
    "scrolled": false
   },
   "outputs": [
    {
     "data": {
      "text/html": [
       "<div>\n",
       "<style scoped>\n",
       "    .dataframe tbody tr th:only-of-type {\n",
       "        vertical-align: middle;\n",
       "    }\n",
       "\n",
       "    .dataframe tbody tr th {\n",
       "        vertical-align: top;\n",
       "    }\n",
       "\n",
       "    .dataframe thead th {\n",
       "        text-align: right;\n",
       "    }\n",
       "</style>\n",
       "<table border=\"1\" class=\"dataframe\">\n",
       "  <thead>\n",
       "    <tr style=\"text-align: right;\">\n",
       "      <th></th>\n",
       "      <th>node_id</th>\n",
       "      <th>node_name</th>\n",
       "      <th>rank</th>\n",
       "      <th>lon</th>\n",
       "      <th>lat</th>\n",
       "      <th>latlon_str</th>\n",
       "      <th>latlon_delim_pos</th>\n",
       "      <th>faf_zone</th>\n",
       "      <th>OD</th>\n",
       "      <th>county_long</th>\n",
       "      <th>county_short</th>\n",
       "      <th>County_No</th>\n",
       "    </tr>\n",
       "  </thead>\n",
       "  <tbody>\n",
       "    <tr>\n",
       "      <th>0</th>\n",
       "      <td>1</td>\n",
       "      <td>Redding</td>\n",
       "      <td>1</td>\n",
       "      <td>-122.360642</td>\n",
       "      <td>40.585450</td>\n",
       "      <td>40.58545,-122.360642</td>\n",
       "      <td>9</td>\n",
       "      <td>Rest of CA</td>\n",
       "      <td>1</td>\n",
       "      <td>Shasta County</td>\n",
       "      <td>Shasta</td>\n",
       "      <td>45</td>\n",
       "    </tr>\n",
       "    <tr>\n",
       "      <th>1</th>\n",
       "      <td>2</td>\n",
       "      <td>Red Bluff</td>\n",
       "      <td>1</td>\n",
       "      <td>-122.224084</td>\n",
       "      <td>40.179209</td>\n",
       "      <td>40.179209,-122.224084</td>\n",
       "      <td>10</td>\n",
       "      <td>Rest of CA</td>\n",
       "      <td>1</td>\n",
       "      <td>Tehama County</td>\n",
       "      <td>Tehama</td>\n",
       "      <td>52</td>\n",
       "    </tr>\n",
       "    <tr>\n",
       "      <th>2</th>\n",
       "      <td>3</td>\n",
       "      <td>Dunnigan</td>\n",
       "      <td>2</td>\n",
       "      <td>-121.953458</td>\n",
       "      <td>38.860841</td>\n",
       "      <td>38.860841,-121.953458</td>\n",
       "      <td>10</td>\n",
       "      <td>None</td>\n",
       "      <td>0</td>\n",
       "      <td>Yolo County</td>\n",
       "      <td>Yolo</td>\n",
       "      <td>57</td>\n",
       "    </tr>\n",
       "    <tr>\n",
       "      <th>3</th>\n",
       "      <td>4</td>\n",
       "      <td>Woodland</td>\n",
       "      <td>2</td>\n",
       "      <td>-121.755159</td>\n",
       "      <td>38.689872</td>\n",
       "      <td>38.689872,-121.755159</td>\n",
       "      <td>10</td>\n",
       "      <td>None</td>\n",
       "      <td>0</td>\n",
       "      <td>Yolo County</td>\n",
       "      <td>Yolo</td>\n",
       "      <td>57</td>\n",
       "    </tr>\n",
       "    <tr>\n",
       "      <th>4</th>\n",
       "      <td>5</td>\n",
       "      <td>SMF</td>\n",
       "      <td>1</td>\n",
       "      <td>-121.593640</td>\n",
       "      <td>38.671090</td>\n",
       "      <td>38.67109,-121.59364</td>\n",
       "      <td>9</td>\n",
       "      <td>Sacramento CA</td>\n",
       "      <td>1</td>\n",
       "      <td>Sacramento County</td>\n",
       "      <td>Sacramento</td>\n",
       "      <td>34</td>\n",
       "    </tr>\n",
       "  </tbody>\n",
       "</table>\n",
       "</div>"
      ],
      "text/plain": [
       "   node_id  node_name  rank         lon        lat             latlon_str  \\\n",
       "0        1    Redding     1 -122.360642  40.585450   40.58545,-122.360642   \n",
       "1        2  Red Bluff     1 -122.224084  40.179209  40.179209,-122.224084   \n",
       "2        3   Dunnigan     2 -121.953458  38.860841  38.860841,-121.953458   \n",
       "3        4   Woodland     2 -121.755159  38.689872  38.689872,-121.755159   \n",
       "4        5        SMF     1 -121.593640  38.671090    38.67109,-121.59364   \n",
       "\n",
       "   latlon_delim_pos       faf_zone  OD        county_long county_short  \\\n",
       "0                 9     Rest of CA   1      Shasta County       Shasta   \n",
       "1                10     Rest of CA   1      Tehama County       Tehama   \n",
       "2                10           None   0        Yolo County         Yolo   \n",
       "3                10           None   0        Yolo County         Yolo   \n",
       "4                 9  Sacramento CA   1  Sacramento County   Sacramento   \n",
       "\n",
       "   County_No  \n",
       "0         45  \n",
       "1         52  \n",
       "2         57  \n",
       "3         57  \n",
       "4         34  "
      ]
     },
     "execution_count": 18,
     "metadata": {},
     "output_type": "execute_result"
    }
   ],
   "source": [
    "nodes.head()"
   ]
  },
  {
   "cell_type": "code",
   "execution_count": 19,
   "metadata": {},
   "outputs": [
    {
     "data": {
      "text/html": [
       "<div>\n",
       "<style scoped>\n",
       "    .dataframe tbody tr th:only-of-type {\n",
       "        vertical-align: middle;\n",
       "    }\n",
       "\n",
       "    .dataframe tbody tr th {\n",
       "        vertical-align: top;\n",
       "    }\n",
       "\n",
       "    .dataframe thead th {\n",
       "        text-align: right;\n",
       "    }\n",
       "</style>\n",
       "<table border=\"1\" class=\"dataframe\">\n",
       "  <thead>\n",
       "    <tr style=\"text-align: right;\">\n",
       "      <th></th>\n",
       "      <th>node_id</th>\n",
       "      <th>County_No</th>\n",
       "    </tr>\n",
       "  </thead>\n",
       "  <tbody>\n",
       "    <tr>\n",
       "      <th>0</th>\n",
       "      <td>1</td>\n",
       "      <td>45</td>\n",
       "    </tr>\n",
       "    <tr>\n",
       "      <th>1</th>\n",
       "      <td>2</td>\n",
       "      <td>52</td>\n",
       "    </tr>\n",
       "    <tr>\n",
       "      <th>4</th>\n",
       "      <td>5</td>\n",
       "      <td>34</td>\n",
       "    </tr>\n",
       "    <tr>\n",
       "      <th>5</th>\n",
       "      <td>6</td>\n",
       "      <td>34</td>\n",
       "    </tr>\n",
       "    <tr>\n",
       "      <th>6</th>\n",
       "      <td>7</td>\n",
       "      <td>31</td>\n",
       "    </tr>\n",
       "  </tbody>\n",
       "</table>\n",
       "</div>"
      ],
      "text/plain": [
       "   node_id  County_No\n",
       "0        1         45\n",
       "1        2         52\n",
       "4        5         34\n",
       "5        6         34\n",
       "6        7         31"
      ]
     },
     "metadata": {},
     "output_type": "display_data"
    }
   ],
   "source": [
    "OD_nodes = nodes[['node_id', 'County_No']][nodes.OD>0]\n",
    "display(OD_nodes.head())"
   ]
  },
  {
   "cell_type": "code",
   "execution_count": 20,
   "metadata": {
    "collapsed": true
   },
   "outputs": [],
   "source": [
    "## node-node trips\n",
    "nn_trips = pd.merge(left=hcv_trips, right=OD_nodes, \n",
    "                    how='inner', left_on='O_County', right_on='County_No')\\\n",
    "                .drop('County_No', axis=1)\\\n",
    "                .rename(columns={'node_id':'orig_node_id'})\n",
    "nn_trips = pd.merge(left=nn_trips, right=OD_nodes, \n",
    "                    how='inner', left_on='D_County', right_on='County_No')\\\n",
    "                .drop('County_No', axis=1)\\\n",
    "                .rename(columns={'node_id':'dest_node_id'})"
   ]
  },
  {
   "cell_type": "code",
   "execution_count": 21,
   "metadata": {
    "collapsed": true
   },
   "outputs": [],
   "source": [
    "nn_trips = nn_trips[nn_trips.orig_node_id != nn_trips.dest_node_id]"
   ]
  },
  {
   "cell_type": "code",
   "execution_count": 22,
   "metadata": {},
   "outputs": [
    {
     "data": {
      "text/html": [
       "<div>\n",
       "<style scoped>\n",
       "    .dataframe tbody tr th:only-of-type {\n",
       "        vertical-align: middle;\n",
       "    }\n",
       "\n",
       "    .dataframe tbody tr th {\n",
       "        vertical-align: top;\n",
       "    }\n",
       "\n",
       "    .dataframe thead th {\n",
       "        text-align: right;\n",
       "    }\n",
       "</style>\n",
       "<table border=\"1\" class=\"dataframe\">\n",
       "  <thead>\n",
       "    <tr style=\"text-align: right;\">\n",
       "      <th></th>\n",
       "      <th>O_County</th>\n",
       "      <th>D_County</th>\n",
       "      <th>Trips</th>\n",
       "      <th>orig_node_id</th>\n",
       "      <th>dest_node_id</th>\n",
       "    </tr>\n",
       "  </thead>\n",
       "  <tbody>\n",
       "    <tr>\n",
       "      <th>1</th>\n",
       "      <td>1</td>\n",
       "      <td>1</td>\n",
       "      <td>81881.0</td>\n",
       "      <td>13</td>\n",
       "      <td>18</td>\n",
       "    </tr>\n",
       "    <tr>\n",
       "      <th>2</th>\n",
       "      <td>1</td>\n",
       "      <td>1</td>\n",
       "      <td>81881.0</td>\n",
       "      <td>18</td>\n",
       "      <td>13</td>\n",
       "    </tr>\n",
       "    <tr>\n",
       "      <th>4</th>\n",
       "      <td>7</td>\n",
       "      <td>1</td>\n",
       "      <td>6895.0</td>\n",
       "      <td>12</td>\n",
       "      <td>13</td>\n",
       "    </tr>\n",
       "    <tr>\n",
       "      <th>5</th>\n",
       "      <td>7</td>\n",
       "      <td>1</td>\n",
       "      <td>6895.0</td>\n",
       "      <td>12</td>\n",
       "      <td>18</td>\n",
       "    </tr>\n",
       "    <tr>\n",
       "      <th>6</th>\n",
       "      <td>10</td>\n",
       "      <td>1</td>\n",
       "      <td>490.0</td>\n",
       "      <td>25</td>\n",
       "      <td>13</td>\n",
       "    </tr>\n",
       "  </tbody>\n",
       "</table>\n",
       "</div>"
      ],
      "text/plain": [
       "   O_County  D_County    Trips  orig_node_id  dest_node_id\n",
       "1         1         1  81881.0            13            18\n",
       "2         1         1  81881.0            18            13\n",
       "4         7         1   6895.0            12            13\n",
       "5         7         1   6895.0            12            18\n",
       "6        10         1    490.0            25            13"
      ]
     },
     "execution_count": 22,
     "metadata": {},
     "output_type": "execute_result"
    }
   ],
   "source": [
    "nn_trips.head()"
   ]
  },
  {
   "cell_type": "code",
   "execution_count": 23,
   "metadata": {
    "collapsed": true
   },
   "outputs": [],
   "source": [
    "od_count = nn_trips.groupby(['O_County', 'D_County']).size().to_frame(name='same_county_OD_count').reset_index()"
   ]
  },
  {
   "cell_type": "code",
   "execution_count": 24,
   "metadata": {},
   "outputs": [
    {
     "data": {
      "text/html": [
       "<div>\n",
       "<style scoped>\n",
       "    .dataframe tbody tr th:only-of-type {\n",
       "        vertical-align: middle;\n",
       "    }\n",
       "\n",
       "    .dataframe tbody tr th {\n",
       "        vertical-align: top;\n",
       "    }\n",
       "\n",
       "    .dataframe thead th {\n",
       "        text-align: right;\n",
       "    }\n",
       "</style>\n",
       "<table border=\"1\" class=\"dataframe\">\n",
       "  <thead>\n",
       "    <tr style=\"text-align: right;\">\n",
       "      <th></th>\n",
       "      <th>O_County</th>\n",
       "      <th>D_County</th>\n",
       "      <th>same_county_OD_count</th>\n",
       "    </tr>\n",
       "  </thead>\n",
       "  <tbody>\n",
       "    <tr>\n",
       "      <th>0</th>\n",
       "      <td>1</td>\n",
       "      <td>1</td>\n",
       "      <td>2</td>\n",
       "    </tr>\n",
       "    <tr>\n",
       "      <th>1</th>\n",
       "      <td>1</td>\n",
       "      <td>7</td>\n",
       "      <td>2</td>\n",
       "    </tr>\n",
       "    <tr>\n",
       "      <th>2</th>\n",
       "      <td>1</td>\n",
       "      <td>10</td>\n",
       "      <td>2</td>\n",
       "    </tr>\n",
       "    <tr>\n",
       "      <th>3</th>\n",
       "      <td>1</td>\n",
       "      <td>19</td>\n",
       "      <td>6</td>\n",
       "    </tr>\n",
       "    <tr>\n",
       "      <th>4</th>\n",
       "      <td>1</td>\n",
       "      <td>30</td>\n",
       "      <td>2</td>\n",
       "    </tr>\n",
       "  </tbody>\n",
       "</table>\n",
       "</div>"
      ],
      "text/plain": [
       "   O_County  D_County  same_county_OD_count\n",
       "0         1         1                     2\n",
       "1         1         7                     2\n",
       "2         1        10                     2\n",
       "3         1        19                     6\n",
       "4         1        30                     2"
      ]
     },
     "execution_count": 24,
     "metadata": {},
     "output_type": "execute_result"
    }
   ],
   "source": [
    "od_count.head()"
   ]
  },
  {
   "cell_type": "code",
   "execution_count": 25,
   "metadata": {
    "collapsed": true
   },
   "outputs": [],
   "source": [
    "nn_trips = pd.merge(left=nn_trips, right=od_count, on=['O_County','D_County'])"
   ]
  },
  {
   "cell_type": "code",
   "execution_count": 26,
   "metadata": {
    "collapsed": true
   },
   "outputs": [],
   "source": [
    "nn_trips['NodeNode_trips'] = nn_trips['Trips']/nn_trips['same_county_OD_count']"
   ]
  },
  {
   "cell_type": "code",
   "execution_count": 27,
   "metadata": {},
   "outputs": [
    {
     "data": {
      "text/html": [
       "<div>\n",
       "<style scoped>\n",
       "    .dataframe tbody tr th:only-of-type {\n",
       "        vertical-align: middle;\n",
       "    }\n",
       "\n",
       "    .dataframe tbody tr th {\n",
       "        vertical-align: top;\n",
       "    }\n",
       "\n",
       "    .dataframe thead th {\n",
       "        text-align: right;\n",
       "    }\n",
       "</style>\n",
       "<table border=\"1\" class=\"dataframe\">\n",
       "  <thead>\n",
       "    <tr style=\"text-align: right;\">\n",
       "      <th></th>\n",
       "      <th>O_County</th>\n",
       "      <th>D_County</th>\n",
       "      <th>Trips</th>\n",
       "      <th>orig_node_id</th>\n",
       "      <th>dest_node_id</th>\n",
       "      <th>same_county_OD_count</th>\n",
       "      <th>NodeNode_trips</th>\n",
       "    </tr>\n",
       "  </thead>\n",
       "  <tbody>\n",
       "    <tr>\n",
       "      <th>0</th>\n",
       "      <td>1</td>\n",
       "      <td>1</td>\n",
       "      <td>81881.0</td>\n",
       "      <td>13</td>\n",
       "      <td>18</td>\n",
       "      <td>2</td>\n",
       "      <td>40940.5</td>\n",
       "    </tr>\n",
       "    <tr>\n",
       "      <th>1</th>\n",
       "      <td>1</td>\n",
       "      <td>1</td>\n",
       "      <td>81881.0</td>\n",
       "      <td>18</td>\n",
       "      <td>13</td>\n",
       "      <td>2</td>\n",
       "      <td>40940.5</td>\n",
       "    </tr>\n",
       "    <tr>\n",
       "      <th>2</th>\n",
       "      <td>7</td>\n",
       "      <td>1</td>\n",
       "      <td>6895.0</td>\n",
       "      <td>12</td>\n",
       "      <td>13</td>\n",
       "      <td>2</td>\n",
       "      <td>3447.5</td>\n",
       "    </tr>\n",
       "    <tr>\n",
       "      <th>3</th>\n",
       "      <td>7</td>\n",
       "      <td>1</td>\n",
       "      <td>6895.0</td>\n",
       "      <td>12</td>\n",
       "      <td>18</td>\n",
       "      <td>2</td>\n",
       "      <td>3447.5</td>\n",
       "    </tr>\n",
       "    <tr>\n",
       "      <th>4</th>\n",
       "      <td>10</td>\n",
       "      <td>1</td>\n",
       "      <td>490.0</td>\n",
       "      <td>25</td>\n",
       "      <td>13</td>\n",
       "      <td>2</td>\n",
       "      <td>245.0</td>\n",
       "    </tr>\n",
       "  </tbody>\n",
       "</table>\n",
       "</div>"
      ],
      "text/plain": [
       "   O_County  D_County    Trips  orig_node_id  dest_node_id  \\\n",
       "0         1         1  81881.0            13            18   \n",
       "1         1         1  81881.0            18            13   \n",
       "2         7         1   6895.0            12            13   \n",
       "3         7         1   6895.0            12            18   \n",
       "4        10         1    490.0            25            13   \n",
       "\n",
       "   same_county_OD_count  NodeNode_trips  \n",
       "0                     2         40940.5  \n",
       "1                     2         40940.5  \n",
       "2                     2          3447.5  \n",
       "3                     2          3447.5  \n",
       "4                     2           245.0  "
      ]
     },
     "metadata": {},
     "output_type": "display_data"
    },
    {
     "data": {
      "text/html": [
       "<div>\n",
       "<style scoped>\n",
       "    .dataframe tbody tr th:only-of-type {\n",
       "        vertical-align: middle;\n",
       "    }\n",
       "\n",
       "    .dataframe tbody tr th {\n",
       "        vertical-align: top;\n",
       "    }\n",
       "\n",
       "    .dataframe thead th {\n",
       "        text-align: right;\n",
       "    }\n",
       "</style>\n",
       "<table border=\"1\" class=\"dataframe\">\n",
       "  <thead>\n",
       "    <tr style=\"text-align: right;\">\n",
       "      <th></th>\n",
       "      <th>O_County</th>\n",
       "      <th>D_County</th>\n",
       "      <th>Trips</th>\n",
       "      <th>orig_node_id</th>\n",
       "      <th>dest_node_id</th>\n",
       "      <th>same_county_OD_count</th>\n",
       "      <th>NodeNode_trips</th>\n",
       "    </tr>\n",
       "  </thead>\n",
       "  <tbody>\n",
       "    <tr>\n",
       "      <th>375</th>\n",
       "      <td>38</td>\n",
       "      <td>52</td>\n",
       "      <td>0.0</td>\n",
       "      <td>15</td>\n",
       "      <td>2</td>\n",
       "      <td>2</td>\n",
       "      <td>0.0</td>\n",
       "    </tr>\n",
       "    <tr>\n",
       "      <th>376</th>\n",
       "      <td>39</td>\n",
       "      <td>52</td>\n",
       "      <td>9.0</td>\n",
       "      <td>19</td>\n",
       "      <td>2</td>\n",
       "      <td>1</td>\n",
       "      <td>9.0</td>\n",
       "    </tr>\n",
       "    <tr>\n",
       "      <th>377</th>\n",
       "      <td>41</td>\n",
       "      <td>52</td>\n",
       "      <td>3.0</td>\n",
       "      <td>16</td>\n",
       "      <td>2</td>\n",
       "      <td>1</td>\n",
       "      <td>3.0</td>\n",
       "    </tr>\n",
       "    <tr>\n",
       "      <th>378</th>\n",
       "      <td>43</td>\n",
       "      <td>52</td>\n",
       "      <td>10.0</td>\n",
       "      <td>17</td>\n",
       "      <td>2</td>\n",
       "      <td>1</td>\n",
       "      <td>10.0</td>\n",
       "    </tr>\n",
       "    <tr>\n",
       "      <th>379</th>\n",
       "      <td>45</td>\n",
       "      <td>52</td>\n",
       "      <td>867.0</td>\n",
       "      <td>1</td>\n",
       "      <td>2</td>\n",
       "      <td>1</td>\n",
       "      <td>867.0</td>\n",
       "    </tr>\n",
       "  </tbody>\n",
       "</table>\n",
       "</div>"
      ],
      "text/plain": [
       "     O_County  D_County  Trips  orig_node_id  dest_node_id  \\\n",
       "375        38        52    0.0            15             2   \n",
       "376        39        52    9.0            19             2   \n",
       "377        41        52    3.0            16             2   \n",
       "378        43        52   10.0            17             2   \n",
       "379        45        52  867.0             1             2   \n",
       "\n",
       "     same_county_OD_count  NodeNode_trips  \n",
       "375                     2             0.0  \n",
       "376                     1             9.0  \n",
       "377                     1             3.0  \n",
       "378                     1            10.0  \n",
       "379                     1           867.0  "
      ]
     },
     "metadata": {},
     "output_type": "display_data"
    }
   ],
   "source": [
    "display(nn_trips.head())\n",
    "display(nn_trips.tail())"
   ]
  },
  {
   "cell_type": "markdown",
   "metadata": {},
   "source": [
    "Save node-node trips as a csv in `../scratch/` folder. Only include the origin node, destination node, and # trips columns."
   ]
  },
  {
   "cell_type": "code",
   "execution_count": 38,
   "metadata": {
    "collapsed": true
   },
   "outputs": [],
   "source": [
    "OD_info = nn_trips[['orig_node_id', 'dest_node_id', 'NodeNode_trips']].copy()\n",
    "OD_info['path_id'] = OD_info.index\n",
    "OD_info['OD_id'] = OD_info.index\n",
    "OD_info.set_index('OD_id', inplace=True)\n",
    "OD_info.rename(columns={'NodeNode_trips':'trip_count'}, inplace=True)\n",
    "OD_info.to_csv('../scratch/OD_info.csv', index=False)"
   ]
  },
  {
   "cell_type": "code",
   "execution_count": 39,
   "metadata": {},
   "outputs": [
    {
     "data": {
      "text/html": [
       "<div>\n",
       "<style scoped>\n",
       "    .dataframe tbody tr th:only-of-type {\n",
       "        vertical-align: middle;\n",
       "    }\n",
       "\n",
       "    .dataframe tbody tr th {\n",
       "        vertical-align: top;\n",
       "    }\n",
       "\n",
       "    .dataframe thead th {\n",
       "        text-align: right;\n",
       "    }\n",
       "</style>\n",
       "<table border=\"1\" class=\"dataframe\">\n",
       "  <thead>\n",
       "    <tr style=\"text-align: right;\">\n",
       "      <th></th>\n",
       "      <th>orig_node_id</th>\n",
       "      <th>dest_node_id</th>\n",
       "      <th>trip_count</th>\n",
       "      <th>path_id</th>\n",
       "    </tr>\n",
       "    <tr>\n",
       "      <th>OD_id</th>\n",
       "      <th></th>\n",
       "      <th></th>\n",
       "      <th></th>\n",
       "      <th></th>\n",
       "    </tr>\n",
       "  </thead>\n",
       "  <tbody>\n",
       "    <tr>\n",
       "      <th>0</th>\n",
       "      <td>13</td>\n",
       "      <td>18</td>\n",
       "      <td>40940.5</td>\n",
       "      <td>0</td>\n",
       "    </tr>\n",
       "    <tr>\n",
       "      <th>1</th>\n",
       "      <td>18</td>\n",
       "      <td>13</td>\n",
       "      <td>40940.5</td>\n",
       "      <td>1</td>\n",
       "    </tr>\n",
       "    <tr>\n",
       "      <th>2</th>\n",
       "      <td>12</td>\n",
       "      <td>13</td>\n",
       "      <td>3447.5</td>\n",
       "      <td>2</td>\n",
       "    </tr>\n",
       "    <tr>\n",
       "      <th>3</th>\n",
       "      <td>12</td>\n",
       "      <td>18</td>\n",
       "      <td>3447.5</td>\n",
       "      <td>3</td>\n",
       "    </tr>\n",
       "    <tr>\n",
       "      <th>4</th>\n",
       "      <td>25</td>\n",
       "      <td>13</td>\n",
       "      <td>245.0</td>\n",
       "      <td>4</td>\n",
       "    </tr>\n",
       "  </tbody>\n",
       "</table>\n",
       "</div>"
      ],
      "text/plain": [
       "       orig_node_id  dest_node_id  trip_count  path_id\n",
       "OD_id                                                 \n",
       "0                13            18     40940.5        0\n",
       "1                18            13     40940.5        1\n",
       "2                12            13      3447.5        2\n",
       "3                12            18      3447.5        3\n",
       "4                25            13       245.0        4"
      ]
     },
     "execution_count": 39,
     "metadata": {},
     "output_type": "execute_result"
    }
   ],
   "source": [
    "OD_info.head()"
   ]
  },
  {
   "cell_type": "markdown",
   "metadata": {},
   "source": [
    "## How many trips are considered in the network graph?"
   ]
  },
  {
   "cell_type": "code",
   "execution_count": 29,
   "metadata": {
    "collapsed": true
   },
   "outputs": [],
   "source": [
    "OD_counties = OD_nodes.County_No.unique()"
   ]
  },
  {
   "cell_type": "code",
   "execution_count": 30,
   "metadata": {},
   "outputs": [
    {
     "data": {
      "text/plain": [
       "15"
      ]
     },
     "execution_count": 30,
     "metadata": {},
     "output_type": "execute_result"
    }
   ],
   "source": [
    "OD_counties.size"
   ]
  },
  {
   "cell_type": "code",
   "execution_count": 32,
   "metadata": {
    "collapsed": true
   },
   "outputs": [],
   "source": [
    "considered_trips_count = hcv_trips[hcv_trips.O_County.isin(OD_counties) \n",
    "                                   & hcv_trips.D_County.isin(OD_counties)]\\\n",
    "                                  ['Trips']\\\n",
    "                                  .sum()"
   ]
  },
  {
   "cell_type": "code",
   "execution_count": 33,
   "metadata": {},
   "outputs": [
    {
     "data": {
      "text/plain": [
       "2308760.0"
      ]
     },
     "execution_count": 33,
     "metadata": {},
     "output_type": "execute_result"
    }
   ],
   "source": [
    "considered_trips_count"
   ]
  },
  {
   "cell_type": "code",
   "execution_count": 34,
   "metadata": {
    "collapsed": true
   },
   "outputs": [],
   "source": [
    "c2c_trips_count = hcv_trips.Trips.sum()"
   ]
  },
  {
   "cell_type": "code",
   "execution_count": 35,
   "metadata": {},
   "outputs": [
    {
     "data": {
      "text/plain": [
       "0.62434287098853836"
      ]
     },
     "execution_count": 35,
     "metadata": {},
     "output_type": "execute_result"
    }
   ],
   "source": [
    "considered_trips_count/c2c_trips_count"
   ]
  }
 ],
 "metadata": {
  "kernelspec": {
   "display_name": "Python 3",
   "language": "python",
   "name": "python3"
  },
  "language_info": {
   "codemirror_mode": {
    "name": "ipython",
    "version": 3
   },
   "file_extension": ".py",
   "mimetype": "text/x-python",
   "name": "python",
   "nbconvert_exporter": "python",
   "pygments_lexer": "ipython3",
   "version": "3.6.3"
  },
  "toc": {
   "nav_menu": {},
   "number_sections": true,
   "sideBar": false,
   "skip_h1_title": true,
   "toc_cell": true,
   "toc_position": {
    "height": "353px",
    "left": "1490px",
    "right": "20px",
    "top": "106.5px",
    "width": "411px"
   },
   "toc_section_display": "block",
   "toc_window_display": true
  }
 },
 "nbformat": 4,
 "nbformat_minor": 2
}
