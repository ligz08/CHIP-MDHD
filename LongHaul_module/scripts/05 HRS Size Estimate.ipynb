{
 "cells": [
  {
   "cell_type": "markdown",
   "metadata": {
    "toc": true
   },
   "source": [
    "<h1>Table of Contents<span class=\"tocSkip\"></span></h1>\n",
    "<div class=\"toc\"><ul class=\"toc-item\"><li><span><a href=\"#Load-Route-and-Path-Info\" data-toc-modified-id=\"Load-Route-and-Path-Info-1\"><span class=\"toc-item-num\">1&nbsp;&nbsp;</span>Load Route and Path Info</a></span></li><li><span><a href=\"#Aggregate-Fuel-Info-by-HRS\" data-toc-modified-id=\"Aggregate-Fuel-Info-by-HRS-2\"><span class=\"toc-item-num\">2&nbsp;&nbsp;</span>Aggregate Fuel Info by HRS</a></span></li><li><span><a href=\"#HRS-Size-Bar-Chart\" data-toc-modified-id=\"HRS-Size-Bar-Chart-3\"><span class=\"toc-item-num\">3&nbsp;&nbsp;</span>HRS Size Bar Chart</a></span></li></ul></div>"
   ]
  },
  {
   "cell_type": "code",
   "execution_count": 1,
   "metadata": {},
   "outputs": [
    {
     "name": "stdout",
     "output_type": "stream",
     "text": [
      "Active scenario: Range800km\n"
     ]
    }
   ],
   "source": [
    "import os, sys\n",
    "import pandas as pd\n",
    "import matplotlib.pyplot as plt\n",
    "%matplotlib inline\n",
    "from LH_MODULE_CONFIG import SCRATCH_FOLDER, OUTPUT_FOLDER, SCENARIO_ROOT, ACTIVE_SCENARIO\n",
    "sys.path.insert(0, SCENARIO_ROOT)\n",
    "from SCENARIO_CONFIG import LH_FCEV_KMPkgH2, FCEV_VOLUME_PROPORTION_IN_HCV"
   ]
  },
  {
   "cell_type": "markdown",
   "metadata": {},
   "source": [
    "## Load Route and Path Info"
   ]
  },
  {
   "cell_type": "code",
   "execution_count": 2,
   "metadata": {
    "scrolled": true
   },
   "outputs": [
    {
     "data": {
      "text/html": [
       "<div>\n",
       "<style scoped>\n",
       "    .dataframe tbody tr th:only-of-type {\n",
       "        vertical-align: middle;\n",
       "    }\n",
       "\n",
       "    .dataframe tbody tr th {\n",
       "        vertical-align: top;\n",
       "    }\n",
       "\n",
       "    .dataframe thead th {\n",
       "        text-align: right;\n",
       "    }\n",
       "</style>\n",
       "<table border=\"1\" class=\"dataframe\">\n",
       "  <thead>\n",
       "    <tr style=\"text-align: right;\">\n",
       "      <th></th>\n",
       "      <th>route_id</th>\n",
       "      <th>orig_node_id</th>\n",
       "      <th>dest_node_id</th>\n",
       "      <th>volume</th>\n",
       "      <th>path_id</th>\n",
       "    </tr>\n",
       "  </thead>\n",
       "  <tbody>\n",
       "    <tr>\n",
       "      <th>0</th>\n",
       "      <td>0</td>\n",
       "      <td>13</td>\n",
       "      <td>18</td>\n",
       "      <td>40940.5</td>\n",
       "      <td>0</td>\n",
       "    </tr>\n",
       "    <tr>\n",
       "      <th>1</th>\n",
       "      <td>1</td>\n",
       "      <td>18</td>\n",
       "      <td>13</td>\n",
       "      <td>40940.5</td>\n",
       "      <td>1</td>\n",
       "    </tr>\n",
       "    <tr>\n",
       "      <th>2</th>\n",
       "      <td>2</td>\n",
       "      <td>12</td>\n",
       "      <td>13</td>\n",
       "      <td>3447.5</td>\n",
       "      <td>2</td>\n",
       "    </tr>\n",
       "    <tr>\n",
       "      <th>3</th>\n",
       "      <td>3</td>\n",
       "      <td>12</td>\n",
       "      <td>18</td>\n",
       "      <td>3447.5</td>\n",
       "      <td>3</td>\n",
       "    </tr>\n",
       "    <tr>\n",
       "      <th>4</th>\n",
       "      <td>4</td>\n",
       "      <td>25</td>\n",
       "      <td>13</td>\n",
       "      <td>245.0</td>\n",
       "      <td>4</td>\n",
       "    </tr>\n",
       "  </tbody>\n",
       "</table>\n",
       "</div>"
      ],
      "text/plain": [
       "   route_id  orig_node_id  dest_node_id   volume  path_id\n",
       "0         0            13            18  40940.5        0\n",
       "1         1            18            13  40940.5        1\n",
       "2         2            12            13   3447.5        2\n",
       "3         3            12            18   3447.5        3\n",
       "4         4            25            13    245.0        4"
      ]
     },
     "metadata": {},
     "output_type": "display_data"
    },
    {
     "name": "stdout",
     "output_type": "stream",
     "text": [
      "Total volume on all routes: 1346268.0\n"
     ]
    }
   ],
   "source": [
    "routes = pd.read_csv(os.path.join(SCRATCH_FOLDER, 'Routes.csv'))\n",
    "display(routes.head())\n",
    "print('Total volume on all routes:', routes['volume'].sum())"
   ]
  },
  {
   "cell_type": "code",
   "execution_count": 3,
   "metadata": {},
   "outputs": [
    {
     "data": {
      "text/html": [
       "<div>\n",
       "<style scoped>\n",
       "    .dataframe tbody tr th:only-of-type {\n",
       "        vertical-align: middle;\n",
       "    }\n",
       "\n",
       "    .dataframe tbody tr th {\n",
       "        vertical-align: top;\n",
       "    }\n",
       "\n",
       "    .dataframe thead th {\n",
       "        text-align: right;\n",
       "    }\n",
       "</style>\n",
       "<table border=\"1\" class=\"dataframe\">\n",
       "  <thead>\n",
       "    <tr style=\"text-align: right;\">\n",
       "      <th></th>\n",
       "      <th>path_id</th>\n",
       "      <th>refuel_at</th>\n",
       "      <th>fuel_km</th>\n",
       "    </tr>\n",
       "  </thead>\n",
       "  <tbody>\n",
       "    <tr>\n",
       "      <th>0</th>\n",
       "      <td>6</td>\n",
       "      <td>67</td>\n",
       "      <td>519.0</td>\n",
       "    </tr>\n",
       "    <tr>\n",
       "      <th>1</th>\n",
       "      <td>6</td>\n",
       "      <td>21</td>\n",
       "      <td>318.0</td>\n",
       "    </tr>\n",
       "    <tr>\n",
       "      <th>2</th>\n",
       "      <td>7</td>\n",
       "      <td>67</td>\n",
       "      <td>519.0</td>\n",
       "    </tr>\n",
       "    <tr>\n",
       "      <th>3</th>\n",
       "      <td>7</td>\n",
       "      <td>21</td>\n",
       "      <td>318.0</td>\n",
       "    </tr>\n",
       "    <tr>\n",
       "      <th>4</th>\n",
       "      <td>8</td>\n",
       "      <td>67</td>\n",
       "      <td>556.0</td>\n",
       "    </tr>\n",
       "  </tbody>\n",
       "</table>\n",
       "</div>"
      ],
      "text/plain": [
       "   path_id  refuel_at  fuel_km\n",
       "0        6         67    519.0\n",
       "1        6         21    318.0\n",
       "2        7         67    519.0\n",
       "3        7         21    318.0\n",
       "4        8         67    556.0"
      ]
     },
     "execution_count": 3,
     "metadata": {},
     "output_type": "execute_result"
    }
   ],
   "source": [
    "Path_fuel_info = pd.read_csv(os.path.join(OUTPUT_FOLDER, 'Paths_fuel_km.csv'))\n",
    "Path_fuel_info.head()"
   ]
  },
  {
   "cell_type": "code",
   "execution_count": 4,
   "metadata": {},
   "outputs": [
    {
     "data": {
      "text/html": [
       "<div>\n",
       "<style scoped>\n",
       "    .dataframe tbody tr th:only-of-type {\n",
       "        vertical-align: middle;\n",
       "    }\n",
       "\n",
       "    .dataframe tbody tr th {\n",
       "        vertical-align: top;\n",
       "    }\n",
       "\n",
       "    .dataframe thead th {\n",
       "        text-align: right;\n",
       "    }\n",
       "</style>\n",
       "<table border=\"1\" class=\"dataframe\">\n",
       "  <thead>\n",
       "    <tr style=\"text-align: right;\">\n",
       "      <th></th>\n",
       "      <th>node_id</th>\n",
       "      <th>node_name</th>\n",
       "      <th>lon</th>\n",
       "      <th>lat</th>\n",
       "      <th>OD</th>\n",
       "      <th>county_long</th>\n",
       "      <th>county_short</th>\n",
       "      <th>County_No</th>\n",
       "    </tr>\n",
       "  </thead>\n",
       "  <tbody>\n",
       "    <tr>\n",
       "      <th>0</th>\n",
       "      <td>1</td>\n",
       "      <td>Redding</td>\n",
       "      <td>-122.360642</td>\n",
       "      <td>40.585450</td>\n",
       "      <td>1</td>\n",
       "      <td>Shasta County</td>\n",
       "      <td>Shasta</td>\n",
       "      <td>45</td>\n",
       "    </tr>\n",
       "    <tr>\n",
       "      <th>1</th>\n",
       "      <td>2</td>\n",
       "      <td>Red Bluff</td>\n",
       "      <td>-122.224084</td>\n",
       "      <td>40.179209</td>\n",
       "      <td>1</td>\n",
       "      <td>Tehama County</td>\n",
       "      <td>Tehama</td>\n",
       "      <td>52</td>\n",
       "    </tr>\n",
       "    <tr>\n",
       "      <th>2</th>\n",
       "      <td>3</td>\n",
       "      <td>Dunnigan</td>\n",
       "      <td>-121.953458</td>\n",
       "      <td>38.860841</td>\n",
       "      <td>0</td>\n",
       "      <td>Yolo County</td>\n",
       "      <td>Yolo</td>\n",
       "      <td>57</td>\n",
       "    </tr>\n",
       "    <tr>\n",
       "      <th>3</th>\n",
       "      <td>4</td>\n",
       "      <td>Woodland</td>\n",
       "      <td>-121.755159</td>\n",
       "      <td>38.689872</td>\n",
       "      <td>0</td>\n",
       "      <td>Yolo County</td>\n",
       "      <td>Yolo</td>\n",
       "      <td>57</td>\n",
       "    </tr>\n",
       "    <tr>\n",
       "      <th>4</th>\n",
       "      <td>5</td>\n",
       "      <td>SMF</td>\n",
       "      <td>-121.593640</td>\n",
       "      <td>38.671090</td>\n",
       "      <td>1</td>\n",
       "      <td>Sacramento County</td>\n",
       "      <td>Sacramento</td>\n",
       "      <td>34</td>\n",
       "    </tr>\n",
       "  </tbody>\n",
       "</table>\n",
       "</div>"
      ],
      "text/plain": [
       "   node_id  node_name         lon        lat  OD        county_long  \\\n",
       "0        1    Redding -122.360642  40.585450   1      Shasta County   \n",
       "1        2  Red Bluff -122.224084  40.179209   1      Tehama County   \n",
       "2        3   Dunnigan -121.953458  38.860841   0        Yolo County   \n",
       "3        4   Woodland -121.755159  38.689872   0        Yolo County   \n",
       "4        5        SMF -121.593640  38.671090   1  Sacramento County   \n",
       "\n",
       "  county_short  County_No  \n",
       "0       Shasta         45  \n",
       "1       Tehama         52  \n",
       "2         Yolo         57  \n",
       "3         Yolo         57  \n",
       "4   Sacramento         34  "
      ]
     },
     "execution_count": 4,
     "metadata": {},
     "output_type": "execute_result"
    }
   ],
   "source": [
    "Nodes_info = pd.read_csv(os.path.join(SCRATCH_FOLDER, 'Nodes_info.csv'))\n",
    "Nodes_info.head()"
   ]
  },
  {
   "cell_type": "markdown",
   "metadata": {},
   "source": [
    "## Aggregate Fuel Info by HRS"
   ]
  },
  {
   "cell_type": "code",
   "execution_count": 5,
   "metadata": {},
   "outputs": [
    {
     "name": "stdout",
     "output_type": "stream",
     "text": [
      "Assumptions:\n",
      "FCEV proportion in all HCV: 0.02\n",
      "Long-haul FCEV fuel efficiency: 14.5 km/kgH2\n"
     ]
    }
   ],
   "source": [
    "print('Assumptions:')\n",
    "print('FCEV proportion in all HCV:', FCEV_VOLUME_PROPORTION_IN_HCV)\n",
    "print('Long-haul FCEV fuel efficiency:', LH_FCEV_KMPkgH2, 'km/kgH2')"
   ]
  },
  {
   "cell_type": "code",
   "execution_count": 6,
   "metadata": {},
   "outputs": [
    {
     "data": {
      "text/html": [
       "<div>\n",
       "<style scoped>\n",
       "    .dataframe tbody tr th:only-of-type {\n",
       "        vertical-align: middle;\n",
       "    }\n",
       "\n",
       "    .dataframe tbody tr th {\n",
       "        vertical-align: top;\n",
       "    }\n",
       "\n",
       "    .dataframe thead th {\n",
       "        text-align: right;\n",
       "    }\n",
       "</style>\n",
       "<table border=\"1\" class=\"dataframe\">\n",
       "  <thead>\n",
       "    <tr style=\"text-align: right;\">\n",
       "      <th></th>\n",
       "      <th>path_id</th>\n",
       "      <th>refuel_at</th>\n",
       "      <th>fuel_km</th>\n",
       "      <th>route_id</th>\n",
       "      <th>orig_node_id</th>\n",
       "      <th>dest_node_id</th>\n",
       "      <th>volume</th>\n",
       "      <th>fcev_volume</th>\n",
       "      <th>fuel_kgH2</th>\n",
       "    </tr>\n",
       "  </thead>\n",
       "  <tbody>\n",
       "    <tr>\n",
       "      <th>0</th>\n",
       "      <td>6</td>\n",
       "      <td>67</td>\n",
       "      <td>519.0</td>\n",
       "      <td>6</td>\n",
       "      <td>29</td>\n",
       "      <td>13</td>\n",
       "      <td>77.333333</td>\n",
       "      <td>1.546667</td>\n",
       "      <td>55.360000</td>\n",
       "    </tr>\n",
       "    <tr>\n",
       "      <th>1</th>\n",
       "      <td>6</td>\n",
       "      <td>21</td>\n",
       "      <td>318.0</td>\n",
       "      <td>6</td>\n",
       "      <td>29</td>\n",
       "      <td>13</td>\n",
       "      <td>77.333333</td>\n",
       "      <td>1.546667</td>\n",
       "      <td>33.920000</td>\n",
       "    </tr>\n",
       "    <tr>\n",
       "      <th>2</th>\n",
       "      <td>7</td>\n",
       "      <td>67</td>\n",
       "      <td>519.0</td>\n",
       "      <td>7</td>\n",
       "      <td>29</td>\n",
       "      <td>18</td>\n",
       "      <td>77.333333</td>\n",
       "      <td>1.546667</td>\n",
       "      <td>55.360000</td>\n",
       "    </tr>\n",
       "    <tr>\n",
       "      <th>3</th>\n",
       "      <td>7</td>\n",
       "      <td>21</td>\n",
       "      <td>318.0</td>\n",
       "      <td>7</td>\n",
       "      <td>29</td>\n",
       "      <td>18</td>\n",
       "      <td>77.333333</td>\n",
       "      <td>1.546667</td>\n",
       "      <td>33.920000</td>\n",
       "    </tr>\n",
       "    <tr>\n",
       "      <th>4</th>\n",
       "      <td>8</td>\n",
       "      <td>67</td>\n",
       "      <td>556.0</td>\n",
       "      <td>8</td>\n",
       "      <td>31</td>\n",
       "      <td>13</td>\n",
       "      <td>77.333333</td>\n",
       "      <td>1.546667</td>\n",
       "      <td>59.306667</td>\n",
       "    </tr>\n",
       "  </tbody>\n",
       "</table>\n",
       "</div>"
      ],
      "text/plain": [
       "   path_id  refuel_at  fuel_km  route_id  orig_node_id  dest_node_id  \\\n",
       "0        6         67    519.0         6            29            13   \n",
       "1        6         21    318.0         6            29            13   \n",
       "2        7         67    519.0         7            29            18   \n",
       "3        7         21    318.0         7            29            18   \n",
       "4        8         67    556.0         8            31            13   \n",
       "\n",
       "      volume  fcev_volume  fuel_kgH2  \n",
       "0  77.333333     1.546667  55.360000  \n",
       "1  77.333333     1.546667  33.920000  \n",
       "2  77.333333     1.546667  55.360000  \n",
       "3  77.333333     1.546667  33.920000  \n",
       "4  77.333333     1.546667  59.306667  "
      ]
     },
     "execution_count": 6,
     "metadata": {},
     "output_type": "execute_result"
    }
   ],
   "source": [
    "path_fuel = pd.merge(Path_fuel_info, routes, how='left', on='path_id')\n",
    "# path_fuel['fuel_mile'] = path_fuel['fuel_km']/1.609\n",
    "path_fuel['fcev_volume'] = path_fuel['volume'] * FCEV_VOLUME_PROPORTION_IN_HCV\n",
    "path_fuel['fuel_kgH2'] = path_fuel['fuel_km'] / LH_FCEV_KMPkgH2 * path_fuel['fcev_volume']\n",
    "path_fuel.head()"
   ]
  },
  {
   "cell_type": "code",
   "execution_count": 7,
   "metadata": {},
   "outputs": [
    {
     "data": {
      "text/html": [
       "<div>\n",
       "<style scoped>\n",
       "    .dataframe tbody tr th:only-of-type {\n",
       "        vertical-align: middle;\n",
       "    }\n",
       "\n",
       "    .dataframe tbody tr th {\n",
       "        vertical-align: top;\n",
       "    }\n",
       "\n",
       "    .dataframe thead th {\n",
       "        text-align: right;\n",
       "    }\n",
       "</style>\n",
       "<table border=\"1\" class=\"dataframe\">\n",
       "  <thead>\n",
       "    <tr style=\"text-align: right;\">\n",
       "      <th></th>\n",
       "      <th>hrs_node_id</th>\n",
       "      <th>node_name</th>\n",
       "      <th>daily_kgH2</th>\n",
       "    </tr>\n",
       "  </thead>\n",
       "  <tbody>\n",
       "    <tr>\n",
       "      <th>65</th>\n",
       "      <td>67</td>\n",
       "      <td>Lebec</td>\n",
       "      <td>6435.169655</td>\n",
       "    </tr>\n",
       "    <tr>\n",
       "      <th>20</th>\n",
       "      <td>21</td>\n",
       "      <td>I-5 &amp; CA-152</td>\n",
       "      <td>4251.480000</td>\n",
       "    </tr>\n",
       "    <tr>\n",
       "      <th>2</th>\n",
       "      <td>3</td>\n",
       "      <td>Dunnigan</td>\n",
       "      <td>610.153103</td>\n",
       "    </tr>\n",
       "  </tbody>\n",
       "</table>\n",
       "</div>"
      ],
      "text/plain": [
       "    hrs_node_id     node_name   daily_kgH2\n",
       "65           67         Lebec  6435.169655\n",
       "20           21  I-5 & CA-152  4251.480000\n",
       "2             3      Dunnigan   610.153103"
      ]
     },
     "execution_count": 7,
     "metadata": {},
     "output_type": "execute_result"
    }
   ],
   "source": [
    "hrs_fuel = path_fuel.groupby('refuel_at')[['fuel_kgH2']].sum()\n",
    "hrs_fuel.rename_axis('hrs_node_id', axis=0, inplace=True)\n",
    "hrs_fuel.rename(columns={'fuel_kgH2': 'daily_kgH2'}, inplace=True)\n",
    "hrs_fuel = pd.merge(hrs_fuel, Nodes_info[['node_id', 'node_name']], how='left', left_index=True, right_on='node_id')\n",
    "hrs_fuel.rename(columns={'node_id':'hrs_node_id'}, inplace=True)\n",
    "hrs_fuel = hrs_fuel[['hrs_node_id', 'node_name', 'daily_kgH2']]\n",
    "hrs_fuel.sort_values('daily_kgH2', ascending=False, inplace=True)\n",
    "hrs_fuel"
   ]
  },
  {
   "cell_type": "code",
   "execution_count": 8,
   "metadata": {},
   "outputs": [],
   "source": [
    "hrs_fuel.to_csv(os.path.join(OUTPUT_FOLDER, f'lh-{ACTIVE_SCENARIO.lower()}-hrs-daily-kgH2.csv'), index=False)"
   ]
  },
  {
   "cell_type": "markdown",
   "metadata": {},
   "source": [
    "## HRS Size Bar Chart"
   ]
  },
  {
   "cell_type": "code",
   "execution_count": 9,
   "metadata": {},
   "outputs": [],
   "source": [
    "# import seaborn as sns\n",
    "# print('Seaborn version:', sns.__version__)"
   ]
  },
  {
   "cell_type": "code",
   "execution_count": 10,
   "metadata": {},
   "outputs": [],
   "source": [
    "plt.style.use('seaborn-paper')"
   ]
  },
  {
   "cell_type": "code",
   "execution_count": 13,
   "metadata": {},
   "outputs": [
    {
     "data": {
      "image/png": "[encoded data removed]",
      "text/plain": [
       "<Figure size 460.8x316.8 with 1 Axes>"
      ]
     },
     "metadata": {},
     "output_type": "display_data"
    }
   ],
   "source": [
    "ax = hrs_fuel[['daily_kgH2']].plot.bar()\n",
    "ax.get_yaxis().set_major_formatter(plt.FuncFormatter(lambda x, loc: '{:,}'.format(int(x))))\n",
    "ax.set_xticklabels(hrs_fuel.node_name)\n",
    "ax.set_xlabel('HRS location (for long-haul FCEVs)')\n",
    "ax.legend(['Daily hydrogen demand (kgH2/day)'])\n",
    "\n",
    "plt.savefig(os.path.join(OUTPUT_FOLDER, f'lh-{ACTIVE_SCENARIO.lower()}-hrs-daily-kgH2-barchart.png'), bbox_inches='tight')"
   ]
  }
 ],
 "metadata": {
  "kernelspec": {
   "display_name": "Python 3",
   "language": "python",
   "name": "python3"
  },
  "language_info": {
   "codemirror_mode": {
    "name": "ipython",
    "version": 3
   },
   "file_extension": ".py",
   "mimetype": "text/x-python",
   "name": "python",
   "nbconvert_exporter": "python",
   "pygments_lexer": "ipython3",
   "version": "3.6.5"
  },
  "toc": {
   "base_numbering": 1,
   "nav_menu": {},
   "number_sections": true,
   "sideBar": false,
   "skip_h1_title": true,
   "title_cell": "Table of Contents",
   "title_sidebar": "Contents",
   "toc_cell": true,
   "toc_position": {
    "height": "346px",
    "left": "1453.94px",
    "right": "20px",
    "top": "110px",
    "width": "434px"
   },
   "toc_section_display": "block",
   "toc_window_display": true
  }
 },
 "nbformat": 4,
 "nbformat_minor": 2
}
